{
 "cells": [
  {
   "cell_type": "markdown",
   "metadata": {},
   "source": [
    "# **The Top 10 Individual Performances in FIFA World Cup History according to advanced stats** 🏆📊 "
   ]
  },
  {
   "cell_type": "markdown",
   "metadata": {},
   "source": [
    "In this journey, I've delved into developing an analysis using data and various data analytics/science techniques, combined with my passion and knowledge of football. The goal is to showcase the top 10 individual performances in FIFA World Cup history by edition, considering key factors that are not always apparent on the field. By forming a mathematical metric that assigns weight to each characteristic, from a global perspective of how I perceive football, a final ranking will be defined to know which players had the best performances in the history of the FIFA World Cup History according to advanced stats."
   ]
  },
  {
   "cell_type": "markdown",
   "metadata": {},
   "source": [
    "**Spoiler:** The performance metric that I'will used in order to calculate the score of every player will be the following\n",
    "\n",
    "$$\n",
    "\\text{Score} = \\sum_{i=1}^{n} (\\text{Stat}_i \\times \\text{Weight}_i)\n",
    "$$"
   ]
  },
  {
   "cell_type": "markdown",
   "metadata": {},
   "source": [
    "## **Objectives**\n",
    "\n",
    "1. **Create a Metric:** We will develop a metric that evaluates different aspects of players' performances in the World Cup, such as goals, assists, key passes, successful dribbles, among others. This metric will allow us to quantify and compare players' performances objectively.\n",
    "\n",
    "2. **Establish a Ranking:** Using the created metric, we will establish a ranking of the best individual performances in the World Cup.\n",
    "\n",
    "### Data Considerations\n",
    "\n",
    "- Only players who have won the World Cup will be considered.\n",
    "- Statistics evaluated will be those corresponding to the edition in which the player was a champion.\n"
   ]
  },
  {
   "cell_type": "markdown",
   "metadata": {},
   "source": [
    "## **Index**\n",
    "\n",
    "1. [Data Acquisition](0.1_DataAcquisition_Scrapping.ipynb): The data was obtained from the sofascore website, and extraction was performed using the ScraperFC library. [View Code](https://github.com/oseymour/ScraperFC)\n",
    "\n",
    "2. [Understanding Data](1.0_UnderstandingData.ipynb): This notebook contains explorations of the data to better understand the values, formats, and basic Exploratory Data Analysis (EDA) tasks.\n",
    "\n",
    "3. [Feature Selection](2.0_Feature_Selection.ipynb): Here, the dataset's features are explored, and those that were effective in obtaining the final result are evaluated.\n",
    "\n",
    "4. [Data Processing](3.0_DataProcessing.ipynb): This notebook processes the data to clean and normalize it, as well as define groupings that helped define the final metric.\n",
    "\n",
    "5. [Model & Results](4.0_Model&Results.ipynb): Here, the metric used is created and explained, along with obtaining the analysis results with the final ranking.\n",
    "\n",
    "6. [Conclusions](5.0_Conclusions.ipynb): The conclusions obtained in the analysis are presented here.\n",
    "\n",
    "7. [Conclusion by Player](5.1_ConclusionByPlayer.ipynb): In this notebook, each position in the ranking is described, and the reasons for each position are explained to interpret the results.\n",
    "\n"
   ]
  },
  {
   "cell_type": "markdown",
   "metadata": {},
   "source": [
    "## **Acknowledgements**\n",
    "\n",
    "I would like to extend my sincere gratitude to the following individuals and resources that made this project possible:\n",
    "\n",
    "- **[Sofascore](https://www.sofascore.com/en-us/):** I am grateful to Sofascore for providing the invaluable source of data that was essential for this analysis.\n",
    "\n",
    "- **[ScraperFC](https://github.com/oseymour/ScraperFC):** Special thanks to ScraperFC and its creator for developing the tool that facilitated data extraction from Sofascore.\n",
    "\n",
    "- **[LanusStats](https://www.youtube.com/@LanusStats):** I would like to thank LanusStats, a talented YouTuber, whose content was an inspiration and a source of knowledge that contributed to the development of this project specially for the part of Data Acquisition\n",
    "\n",
    "Their contribution was instrumental to the success of this analysis, and I am sincerely grateful for their support and resources provided.\n"
   ]
  },
  {
   "cell_type": "markdown",
   "metadata": {},
   "source": [
    "# About the project\n",
    "\n",
    "**Created by: Jose Ruben Garcia Garcia**\n",
    "\n",
    "*April 2024*\n",
    "\n",
    "- **LinkedIn:** [My LinkedIn Profile - Ruben Garcia](https://www.linkedin.com/in/jose-ruben-garcia-garcia/)\n"
   ]
  }
 ],
 "metadata": {
  "kernelspec": {
   "display_name": "Python 3",
   "language": "python",
   "name": "python3"
  },
  "language_info": {
   "codemirror_mode": {
    "name": "ipython",
    "version": 3
   },
   "file_extension": ".py",
   "mimetype": "text/x-python",
   "name": "python",
   "nbconvert_exporter": "python",
   "pygments_lexer": "ipython3",
   "version": "3.11.8"
  },
  "orig_nbformat": 4
 },
 "nbformat": 4,
 "nbformat_minor": 2
}
