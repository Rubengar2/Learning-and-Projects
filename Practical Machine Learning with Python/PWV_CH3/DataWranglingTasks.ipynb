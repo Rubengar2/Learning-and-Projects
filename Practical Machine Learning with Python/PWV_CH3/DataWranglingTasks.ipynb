{
 "cells": [
  {
   "cell_type": "markdown",
   "id": "5c585e48-4037-44f2-98bc-d585f7271c43",
   "metadata": {},
   "source": [
    "## CHAPTER 3 PROCESSING, WRANGLING AND DATA VISUALIZATION.\n",
    "### DATA WRANGLING \n",
    "#### Showing the foundamental steps to manipulate data in order to identify the techniques most common used for data wrangling\n",
    "##### *Jose Ruben Garcia Garcia*\n",
    "##### *Frebuary 2024*\n",
    "##### *Reference: Practical Machine learning python problems solver*"
   ]
  },
  {
   "cell_type": "markdown",
   "id": "98fea76e-c9c1-4735-9c7d-adb28095982f",
   "metadata": {},
   "source": [
    "### Creating a dataframe"
   ]
  },
  {
   "cell_type": "code",
   "execution_count": 1,
   "id": "00c298cd-45a1-458a-b8ce-956ec453dc28",
   "metadata": {},
   "outputs": [],
   "source": [
    "#The first thing we are going to do is to create a dataframe using some libraries\n",
    "\n",
    "import random\n",
    "import datetime \n",
    "import numpy as np\n",
    "import pandas as pd\n",
    "from random import randrange\n",
    "from sklearn import preprocessing\n"
   ]
  },
  {
   "cell_type": "code",
   "execution_count": 2,
   "id": "65e4a1fc-7853-4cb8-8b4b-fbfb2eabce25",
   "metadata": {},
   "outputs": [],
   "source": [
    "#This function generates a random date based on params\n",
    "def _random_date(start,date_count):\n",
    "    current = start\n",
    "    while date_count > 0:\n",
    "        curr = current + datetime.timedelta(days=randrange(42))\n",
    "        yield curr\n",
    "        date_count-=1\n",
    "        "
   ]
  },
  {
   "cell_type": "code",
   "execution_count": 3,
   "id": "87f9e93f-1465-4767-8fb5-a4affbde2dfa",
   "metadata": {},
   "outputs": [
    {
     "data": {
      "text/html": [
       "<div>\n",
       "<style scoped>\n",
       "    .dataframe tbody tr th:only-of-type {\n",
       "        vertical-align: middle;\n",
       "    }\n",
       "\n",
       "    .dataframe tbody tr th {\n",
       "        vertical-align: top;\n",
       "    }\n",
       "\n",
       "    .dataframe thead th {\n",
       "        text-align: right;\n",
       "    }\n",
       "</style>\n",
       "<table border=\"1\" class=\"dataframe\">\n",
       "  <thead>\n",
       "    <tr style=\"text-align: right;\">\n",
       "      <th></th>\n",
       "      <th>Serial No</th>\n",
       "      <th>Date</th>\n",
       "      <th>User ID</th>\n",
       "      <th>Product ID</th>\n",
       "      <th>Quantity Purchased</th>\n",
       "      <th>Price</th>\n",
       "      <th>User Type</th>\n",
       "    </tr>\n",
       "  </thead>\n",
       "  <tbody>\n",
       "    <tr>\n",
       "      <th>0</th>\n",
       "      <td>1000</td>\n",
       "      <td>NaN</td>\n",
       "      <td>-101</td>\n",
       "      <td>0</td>\n",
       "      <td>6</td>\n",
       "      <td>NaN</td>\n",
       "      <td>n</td>\n",
       "    </tr>\n",
       "    <tr>\n",
       "      <th>1</th>\n",
       "      <td>1001</td>\n",
       "      <td>NaN</td>\n",
       "      <td>5183</td>\n",
       "      <td>200</td>\n",
       "      <td>11</td>\n",
       "      <td>4489.90</td>\n",
       "      <td>n</td>\n",
       "    </tr>\n",
       "    <tr>\n",
       "      <th>2</th>\n",
       "      <td>1002</td>\n",
       "      <td>NaN</td>\n",
       "      <td>5065</td>\n",
       "      <td>229</td>\n",
       "      <td>20</td>\n",
       "      <td>2456.06</td>\n",
       "      <td>n</td>\n",
       "    </tr>\n",
       "    <tr>\n",
       "      <th>3</th>\n",
       "      <td>1003</td>\n",
       "      <td>NaN</td>\n",
       "      <td>5909</td>\n",
       "      <td>439</td>\n",
       "      <td>32</td>\n",
       "      <td>397.36</td>\n",
       "      <td>n</td>\n",
       "    </tr>\n",
       "    <tr>\n",
       "      <th>4</th>\n",
       "      <td>1004</td>\n",
       "      <td>2016-02-04</td>\n",
       "      <td>5560</td>\n",
       "      <td>570</td>\n",
       "      <td>3</td>\n",
       "      <td>1721.89</td>\n",
       "      <td>n</td>\n",
       "    </tr>\n",
       "  </tbody>\n",
       "</table>\n",
       "</div>"
      ],
      "text/plain": [
       "   Serial No        Date  User ID  Product ID  Quantity Purchased    Price  \\\n",
       "0       1000         NaN     -101           0                   6      NaN   \n",
       "1       1001         NaN     5183         200                  11  4489.90   \n",
       "2       1002         NaN     5065         229                  20  2456.06   \n",
       "3       1003         NaN     5909         439                  32   397.36   \n",
       "4       1004  2016-02-04     5560         570                   3  1721.89   \n",
       "\n",
       "  User Type  \n",
       "0         n  \n",
       "1         n  \n",
       "2         n  \n",
       "3         n  \n",
       "4         n  "
      ]
     },
     "execution_count": 3,
     "metadata": {},
     "output_type": "execute_result"
    }
   ],
   "source": [
    "import datetime\n",
    "import numpy as np\n",
    "import pandas as pd\n",
    "import random\n",
    "\n",
    "#This function generates a random transaction dataset\n",
    "def generate_sample_data(row_count=1000):\n",
    "    # sentinels\n",
    "    startDate = datetime.datetime(2016, 1, 1,13)\n",
    "    serial_number_sentinel = 1000\n",
    "    user_id_sentinel = 5001\n",
    "    product_id_sentinel = 101\n",
    "    price_sentinel = 2000\n",
    "    \n",
    "    \n",
    "    # base list of attributes\n",
    "    data_dict = {\n",
    "    'Serial No': np.arange(row_count)+serial_number_sentinel,\n",
    "    'Date': np.random.permutation(pd.to_datetime([x.strftime(\"%m-%d-%Y\")  # Cambiado el formato de la fecha aquí\n",
    "                                                    for x in _random_date(startDate,\n",
    "                                                                          row_count)]).date\n",
    "                                  ),\n",
    "    'User ID': np.random.permutation(np.random.randint(0,\n",
    "                                                       row_count,\n",
    "                                                       size=int(row_count/10)) + user_id_sentinel).tolist()*10,\n",
    "    'Product ID': np.random.permutation(np.random.randint(0,\n",
    "                                                          row_count,\n",
    "                                                          size=int(row_count/10))+ product_id_sentinel).tolist()*10 ,\n",
    "    'Quantity Purchased': np.random.permutation(np.random.randint(1,\n",
    "                                                                  42,\n",
    "                                                                  size=row_count)),\n",
    "    'Price': np.round(np.abs(np.random.randn(row_count)+1)*price_sentinel,\n",
    "                      decimals=2),\n",
    "    'User Type':np.random.permutation([chr(random.randrange(97, 97 + 3 + 1)) \n",
    "                                            for i in range(row_count)])\n",
    "    }\n",
    "\n",
    "    # introduce missing values\n",
    "    for index in range(int(np.sqrt(row_count))): \n",
    "        data_dict['Price'][np.argmax(data_dict['Price'] == random.choice(data_dict['Price']))] = np.nan\n",
    "        data_dict['User Type'][np.argmax(data_dict['User Type'] == random.choice(data_dict['User Type']))] = np.nan\n",
    "        data_dict['Date'][np.argmax(data_dict['Date'] == random.choice(data_dict['Date']))] = np.nan\n",
    "        data_dict['Product ID'][np.argmax(data_dict['Product ID'] == random.choice(data_dict['Product ID']))] = 0\n",
    "        data_dict['Serial No'][np.argmax(data_dict['Serial No'] == random.choice(data_dict['Serial No']))] = -1\n",
    "        data_dict['User ID'][np.argmax(data_dict['User ID'] == random.choice(data_dict['User ID']))] = -101\n",
    "        \n",
    "    \n",
    "    # create data frame\n",
    "    df = pd.DataFrame(data_dict)\n",
    "    \n",
    "    return df\n",
    "\n",
    "# Call the function to generate the DataFrame\n",
    "df = generate_sample_data()\n",
    "\n",
    "# Display the DataFrame\n",
    "df.head()"
   ]
  },
  {
   "cell_type": "markdown",
   "id": "7085e964-8cfb-402b-90dc-c4fa355c78e4",
   "metadata": {},
   "source": [
    "### Understanding data\n",
    "\n",
    "#### The dataset that was created previously describes transactions having the following attributes/features/properties:\n",
    "#### • Date: The date of the transaction\n",
    "#### • Price: The price of the product purchased\n",
    "#### • Product ID: Product identification number\n",
    "#### • Quantity Purchased: The quantity of product purchased in this transaction\n",
    "#### • Serial No: The transaction serial number\n",
    "#### • User ID: Identification number for user performing the transaction\n",
    "#### • User Type: The type of user"
   ]
  },
  {
   "cell_type": "markdown",
   "id": "55887577-114b-4c5f-9eb5-e5c24625ee2e",
   "metadata": {},
   "source": [
    "### Techniques"
   ]
  },
  {
   "cell_type": "code",
   "execution_count": 4,
   "id": "21801092-4947-4e8c-ae8e-d450854282f0",
   "metadata": {},
   "outputs": [
    {
     "name": "stdout",
     "output_type": "stream",
     "text": [
      "Number of rows:: 1000\n"
     ]
    }
   ],
   "source": [
    "#Show the number of rows\n",
    "print(\"Number of rows::\", df.shape[0])"
   ]
  },
  {
   "cell_type": "code",
   "execution_count": 5,
   "id": "bf98d4d8-4024-4480-b728-02533dd13f7c",
   "metadata": {},
   "outputs": [
    {
     "name": "stdout",
     "output_type": "stream",
     "text": [
      "Number of rows:: 7\n"
     ]
    }
   ],
   "source": [
    "#Show the number of columns\n",
    "print(\"Number of rows::\", df.shape[1])"
   ]
  },
  {
   "cell_type": "code",
   "execution_count": 6,
   "id": "6443dd30-9afb-40fd-ad7a-fe40be3f1bc3",
   "metadata": {},
   "outputs": [
    {
     "name": "stdout",
     "output_type": "stream",
     "text": [
      "Column names:: ['Serial No', 'Date', 'User ID', 'Product ID', 'Quantity Purchased', 'Price', 'User Type']\n"
     ]
    }
   ],
   "source": [
    "#show the names of every column in the dataset\n",
    "print(\"Column names::\", df.columns.values.tolist())"
   ]
  },
  {
   "cell_type": "code",
   "execution_count": 7,
   "id": "3129b818-03ba-41d7-b86d-2066addeda0c",
   "metadata": {},
   "outputs": [
    {
     "name": "stdout",
     "output_type": "stream",
     "text": [
      "Column data types::\n",
      " Serial No               int64\n",
      "Date                   object\n",
      "User ID                 int64\n",
      "Product ID              int64\n",
      "Quantity Purchased      int64\n",
      "Price                 float64\n",
      "User Type              object\n",
      "dtype: object\n"
     ]
    }
   ],
   "source": [
    "#Show the data type of every column\n",
    "print(\"Column data types::\\n\", df.dtypes )"
   ]
  },
  {
   "cell_type": "code",
   "execution_count": 8,
   "id": "e4167693-7b4d-4492-a08d-bb406c357adb",
   "metadata": {},
   "outputs": [
    {
     "name": "stdout",
     "output_type": "stream",
     "text": [
      "Columns with missing values:: ['Date', 'Price']\n"
     ]
    }
   ],
   "source": [
    "#Look for the columns with missing values in their rows\n",
    "print(\"Columns with missing values::\",df.columns[df.isnull().any()].tolist())"
   ]
  },
  {
   "cell_type": "code",
   "execution_count": 9,
   "id": "e327a9e0-ad9d-4178-b496-12f0c002ccd6",
   "metadata": {},
   "outputs": [
    {
     "name": "stdout",
     "output_type": "stream",
     "text": [
      "Rows with missing values (count): 58\n"
     ]
    }
   ],
   "source": [
    "#Count the number of rows with missing values\n",
    "print(\"Rows with missing values (count):\", len(pd.isnull(df).any(axis=1).to_numpy().nonzero()[0]))"
   ]
  },
  {
   "cell_type": "code",
   "execution_count": 10,
   "id": "7f9f7ca2-8819-4dea-be22-0d4862104386",
   "metadata": {},
   "outputs": [
    {
     "name": "stdout",
     "output_type": "stream",
     "text": [
      "Sample indices with missing data: [0, 1, 2, 3, 5]\n"
     ]
    }
   ],
   "source": [
    "#Showing the sample indices with missing data\n",
    "print(\"Sample indices with missing data:\", pd.isnull(df).any(axis=1).to_numpy().nonzero()[0].tolist()[:5])"
   ]
  },
  {
   "cell_type": "code",
   "execution_count": 11,
   "id": "7a5a2c71-f0cd-4bd9-acc4-d96a68e6a999",
   "metadata": {},
   "outputs": [
    {
     "name": "stdout",
     "output_type": "stream",
     "text": [
      "General information\n",
      "<class 'pandas.core.frame.DataFrame'>\n",
      "RangeIndex: 1000 entries, 0 to 999\n",
      "Data columns (total 7 columns):\n",
      " #   Column              Non-Null Count  Dtype  \n",
      "---  ------              --------------  -----  \n",
      " 0   Serial No           1000 non-null   int64  \n",
      " 1   Date                969 non-null    object \n",
      " 2   User ID             1000 non-null   int64  \n",
      " 3   Product ID          1000 non-null   int64  \n",
      " 4   Quantity Purchased  1000 non-null   int64  \n",
      " 5   Price               971 non-null    float64\n",
      " 6   User Type           1000 non-null   object \n",
      "dtypes: float64(1), int64(4), object(2)\n",
      "memory usage: 54.8+ KB\n",
      "None\n"
     ]
    }
   ],
   "source": [
    "# Getting general info of the dataset\n",
    "print(\"General information\")\n",
    "print(df.info())"
   ]
  },
  {
   "cell_type": "code",
   "execution_count": 12,
   "id": "6efd662c-a7a1-43e7-a69f-baf3fc018286",
   "metadata": {},
   "outputs": [
    {
     "name": "stdout",
     "output_type": "stream",
     "text": [
      "General statistics\n",
      "         Serial No      User ID  Product ID  Quantity Purchased        Price\n",
      "count  1000.000000  1000.000000  1000.00000          1000.00000   971.000000\n",
      "mean   1455.285000  5468.379000   636.44400            21.29900  2388.244367\n",
      "std     386.397338   327.245111   282.85991            11.67081  1644.111601\n",
      "min      -1.000000  -101.000000     0.00000             1.00000    10.690000\n",
      "25%    1227.750000  5267.500000   415.25000            11.75000  1081.240000\n",
      "50%    1484.500000  5453.000000   632.00000            21.00000  2107.010000\n",
      "75%    1747.250000  5664.250000   892.75000            32.00000  3381.930000\n",
      "max    1999.000000  5984.000000  1096.00000            41.00000  7665.100000\n"
     ]
    }
   ],
   "source": [
    "# Getting general stats of the dataset\n",
    "print(\"General statistics\")\n",
    "print(df.describe())"
   ]
  },
  {
   "cell_type": "markdown",
   "id": "b0b87da5-1ec1-4262-b652-8d74f507ffe1",
   "metadata": {},
   "source": [
    "### Filtering Data"
   ]
  },
  {
   "cell_type": "code",
   "execution_count": 13,
   "id": "effac543-e15d-4cab-a5e0-d57e2f2870b2",
   "metadata": {},
   "outputs": [
    {
     "data": {
      "text/html": [
       "<div>\n",
       "<style scoped>\n",
       "    .dataframe tbody tr th:only-of-type {\n",
       "        vertical-align: middle;\n",
       "    }\n",
       "\n",
       "    .dataframe tbody tr th {\n",
       "        vertical-align: top;\n",
       "    }\n",
       "\n",
       "    .dataframe thead th {\n",
       "        text-align: right;\n",
       "    }\n",
       "</style>\n",
       "<table border=\"1\" class=\"dataframe\">\n",
       "  <thead>\n",
       "    <tr style=\"text-align: right;\">\n",
       "      <th></th>\n",
       "      <th>Serial No</th>\n",
       "      <th>Date</th>\n",
       "      <th>User ID</th>\n",
       "      <th>Product ID</th>\n",
       "      <th>Quantity Purchased</th>\n",
       "      <th>Price</th>\n",
       "      <th>User Type</th>\n",
       "    </tr>\n",
       "  </thead>\n",
       "  <tbody>\n",
       "    <tr>\n",
       "      <th>0</th>\n",
       "      <td>1000</td>\n",
       "      <td>NaN</td>\n",
       "      <td>-101</td>\n",
       "      <td>0</td>\n",
       "      <td>6</td>\n",
       "      <td>NaN</td>\n",
       "      <td>n</td>\n",
       "    </tr>\n",
       "    <tr>\n",
       "      <th>1</th>\n",
       "      <td>1001</td>\n",
       "      <td>NaN</td>\n",
       "      <td>5183</td>\n",
       "      <td>200</td>\n",
       "      <td>11</td>\n",
       "      <td>4489.90</td>\n",
       "      <td>n</td>\n",
       "    </tr>\n",
       "    <tr>\n",
       "      <th>2</th>\n",
       "      <td>1002</td>\n",
       "      <td>NaN</td>\n",
       "      <td>5065</td>\n",
       "      <td>229</td>\n",
       "      <td>20</td>\n",
       "      <td>2456.06</td>\n",
       "      <td>n</td>\n",
       "    </tr>\n",
       "    <tr>\n",
       "      <th>3</th>\n",
       "      <td>1003</td>\n",
       "      <td>NaN</td>\n",
       "      <td>5909</td>\n",
       "      <td>439</td>\n",
       "      <td>32</td>\n",
       "      <td>397.36</td>\n",
       "      <td>n</td>\n",
       "    </tr>\n",
       "    <tr>\n",
       "      <th>4</th>\n",
       "      <td>1004</td>\n",
       "      <td>2016-02-04</td>\n",
       "      <td>5560</td>\n",
       "      <td>570</td>\n",
       "      <td>3</td>\n",
       "      <td>1721.89</td>\n",
       "      <td>n</td>\n",
       "    </tr>\n",
       "  </tbody>\n",
       "</table>\n",
       "</div>"
      ],
      "text/plain": [
       "   Serial No        Date  User ID  Product ID  Quantity Purchased    Price  \\\n",
       "0       1000         NaN     -101           0                   6      NaN   \n",
       "1       1001         NaN     5183         200                  11  4489.90   \n",
       "2       1002         NaN     5065         229                  20  2456.06   \n",
       "3       1003         NaN     5909         439                  32   397.36   \n",
       "4       1004  2016-02-04     5560         570                   3  1721.89   \n",
       "\n",
       "  User Type  \n",
       "0         n  \n",
       "1         n  \n",
       "2         n  \n",
       "3         n  \n",
       "4         n  "
      ]
     },
     "execution_count": 13,
     "metadata": {},
     "output_type": "execute_result"
    }
   ],
   "source": [
    "df.head()"
   ]
  },
  {
   "cell_type": "code",
   "execution_count": 14,
   "id": "08e24f3b-6796-4f45-a92a-ef17ddfc67d8",
   "metadata": {},
   "outputs": [
    {
     "name": "stdout",
     "output_type": "stream",
     "text": [
      "Nombres de las columnas del DataFrame df regularizadas correctamente.\n"
     ]
    }
   ],
   "source": [
    "def cleanup_column_names(df, rename_dict={}, do_inplace=True):\n",
    "    if not rename_dict:\n",
    "        df.rename(columns={col: col.lower().replace(' ', '_') for col in df.columns.values.tolist()}, inplace=do_inplace)\n",
    "    else:\n",
    "        df.rename(columns=rename_dict, inplace=do_inplace)\n",
    "    return df\n",
    "\n",
    "# Verifica si df es un DataFrame válido y no está vacío\n",
    "if df is not None and not df.empty:\n",
    "    # Llama a la función cleanup_column_names con tu DataFrame df\n",
    "    df = cleanup_column_names(df)\n",
    "    print(\"Nombres de las columnas del DataFrame df regularizadas correctamente.\")\n",
    "else:\n",
    "    print(\"El DataFrame df está vacío o no ha sido inicializado correctamente.\")"
   ]
  },
  {
   "cell_type": "code",
   "execution_count": 15,
   "id": "394afa93-5f87-4c04-a80f-f6c9d5d53459",
   "metadata": {},
   "outputs": [
    {
     "data": {
      "text/html": [
       "<div>\n",
       "<style scoped>\n",
       "    .dataframe tbody tr th:only-of-type {\n",
       "        vertical-align: middle;\n",
       "    }\n",
       "\n",
       "    .dataframe tbody tr th {\n",
       "        vertical-align: top;\n",
       "    }\n",
       "\n",
       "    .dataframe thead th {\n",
       "        text-align: right;\n",
       "    }\n",
       "</style>\n",
       "<table border=\"1\" class=\"dataframe\">\n",
       "  <thead>\n",
       "    <tr style=\"text-align: right;\">\n",
       "      <th></th>\n",
       "      <th>serial_no</th>\n",
       "      <th>date</th>\n",
       "      <th>user_id</th>\n",
       "      <th>product_id</th>\n",
       "      <th>quantity_purchased</th>\n",
       "      <th>price</th>\n",
       "      <th>user_type</th>\n",
       "    </tr>\n",
       "  </thead>\n",
       "  <tbody>\n",
       "    <tr>\n",
       "      <th>0</th>\n",
       "      <td>1000</td>\n",
       "      <td>NaN</td>\n",
       "      <td>-101</td>\n",
       "      <td>0</td>\n",
       "      <td>6</td>\n",
       "      <td>NaN</td>\n",
       "      <td>n</td>\n",
       "    </tr>\n",
       "    <tr>\n",
       "      <th>1</th>\n",
       "      <td>1001</td>\n",
       "      <td>NaN</td>\n",
       "      <td>5183</td>\n",
       "      <td>200</td>\n",
       "      <td>11</td>\n",
       "      <td>4489.90</td>\n",
       "      <td>n</td>\n",
       "    </tr>\n",
       "    <tr>\n",
       "      <th>2</th>\n",
       "      <td>1002</td>\n",
       "      <td>NaN</td>\n",
       "      <td>5065</td>\n",
       "      <td>229</td>\n",
       "      <td>20</td>\n",
       "      <td>2456.06</td>\n",
       "      <td>n</td>\n",
       "    </tr>\n",
       "    <tr>\n",
       "      <th>3</th>\n",
       "      <td>1003</td>\n",
       "      <td>NaN</td>\n",
       "      <td>5909</td>\n",
       "      <td>439</td>\n",
       "      <td>32</td>\n",
       "      <td>397.36</td>\n",
       "      <td>n</td>\n",
       "    </tr>\n",
       "    <tr>\n",
       "      <th>4</th>\n",
       "      <td>1004</td>\n",
       "      <td>2016-02-04</td>\n",
       "      <td>5560</td>\n",
       "      <td>570</td>\n",
       "      <td>3</td>\n",
       "      <td>1721.89</td>\n",
       "      <td>n</td>\n",
       "    </tr>\n",
       "  </tbody>\n",
       "</table>\n",
       "</div>"
      ],
      "text/plain": [
       "   serial_no        date  user_id  product_id  quantity_purchased    price  \\\n",
       "0       1000         NaN     -101           0                   6      NaN   \n",
       "1       1001         NaN     5183         200                  11  4489.90   \n",
       "2       1002         NaN     5065         229                  20  2456.06   \n",
       "3       1003         NaN     5909         439                  32   397.36   \n",
       "4       1004  2016-02-04     5560         570                   3  1721.89   \n",
       "\n",
       "  user_type  \n",
       "0         n  \n",
       "1         n  \n",
       "2         n  \n",
       "3         n  \n",
       "4         n  "
      ]
     },
     "execution_count": 15,
     "metadata": {},
     "output_type": "execute_result"
    }
   ],
   "source": [
    "df.head()"
   ]
  },
  {
   "cell_type": "code",
   "execution_count": 23,
   "id": "a62d0c82-474f-43ac-9f2c-e43e1dbbdaf2",
   "metadata": {
    "collapsed": true,
    "jupyter": {
     "outputs_hidden": true
    }
   },
   "outputs": [
    {
     "name": "stdout",
     "output_type": "stream",
     "text": [
      "Using column name::\n",
      "[ 6 11 20 32  3 11 27 28 17 15  7 41 24 30 20 16 27  5 35 12 12 35 20 39\n",
      " 25  5 32 23 34  3 30 34 40 20 33 35  2 16  5 32 20 37 34 36 24  6 28 31\n",
      " 38  8  6 13 33 23 11 24  3 13 18 38  2 40 33 14 27 29 16  5  6 25 30 32\n",
      " 11  1  7 26 36 21  2 20 38 28 18 40 37 38 27 21 40  1 25 32  4 33 24 10\n",
      " 30  6 16 22 34 12  4 11 19 35 40 28 39 33 38  3 39  5 36  1 17 34 14 22\n",
      " 13 13 13 39 28 32  6 22 16  7 35  5 17 10 23 13 24 40 13 35  4 11 39 15\n",
      " 21 22 12  2  6 18 39 16 24 34 23  7 41 17 18 28 35 12 17 20 40 20 20  9\n",
      " 36 35 18 13 24 28 12 21 15 16 37 16 16 36 41 31 22 27  9 18 21 23 12  1\n",
      " 24  5 24 32 11  7 32  4 30  3 25  6 37  5  9  9 32  9 20 29 38 26 40 19\n",
      " 10 25 33 30 30 21 26 11 17 11 18  7  8  1 25 10  3 36 25 16 30 34 25 23\n",
      " 36 31  6  3 19 11 22 20 18 37 22 37  3 29 12 21 12 15 27 31 12  9 12 30\n",
      " 16 26 41 10 11 26 17 32 34 27  2  6  6  2 23  2 40  5 21 40 28 25 17  1\n",
      " 32  4 39 14 29 17 17 34 22 37 20 20 34 11  5  6 34 25 11 40 34 16 39 24\n",
      " 28 10 22 38 18  1  7 38  8 33 37  2  2 10  1  2 36  9 19 36  7 21 21 19\n",
      "  3 37 13 13 29 26  1 14 11 33 34 33  1  7 21 23  5  3 28  4 12 37 34 17\n",
      " 21 35 14  8 30 13 35 14 34 27 40  7 40 15 34 12 35 41  3  6 37 11 10 19\n",
      " 32 41 36 30 25 28 24 34 34 27 40 27 16 37 37 30 35 34 12 15 15  1 28  9\n",
      " 36 41 30 13 24 13  9  8  2  1  2 28 10  7 29 33 30 14 24  1 33 22 26  9\n",
      " 28 11  2 30 22 13  1 32 36 22  1 39 29 32  5 38 29 21 15 10  1  7 17 36\n",
      " 12  4 40  8  3 15 13 37 11 37  6  7 28 11 23  6 29 33 23 40 35 34 37 34\n",
      " 11 38 11 18 31 20 36 15 21  1 13 17 20 36 17 22 41 30 12 28 36 41 17 37\n",
      " 26 25 36 34 14 36 28 11 20 40  5 25 23 13 40 29 22 29 35 25 37 12 34 22\n",
      " 15 36 27 41 25 21 11 15 33 30 41 26 18 13 20 10  5 20 16  2 10 18 14  7\n",
      " 39 21 31  4 35 14 32  1 12 18 23  6 36  5 32 26 28  4 19 24 17 32 15 23\n",
      " 36  5  5 17 25  6 24 13 34 15 23 11 32 24  1 11 37 22 31 33 10 25 33 22\n",
      " 23 41 11  2  6  3 11 18 40  7 23 38 35 30 26  5 29 24 35 30 11 23 21  2\n",
      " 37 18 32 23 11  8 37 14 28 38 18  1 18 14 23 24 16 37 10 12 13 16 13 18\n",
      " 21 25 39  8  8  8 23 38 32  5 16 24 21 21 38 26 26 29 21 16 27 36 18  7\n",
      " 38 18 13 26 40 23 36 23 27 36 29 16 31 27 41 24 21 14  6 23  9 13 19  7\n",
      "  9 20 32 20 33 41 14 28 21  4 34 14 21 33 37 27  9 39 36  2  6  7 27 37\n",
      " 21 17 29 16 12  7 24 30 10 26 34  7 40 39 35 19 12 29  5  1 35 22 37  8\n",
      " 41  1 22 40 38  9  9 24 11 34 30 15 39 36 25 26 13 29 31 12  5  9 31 15\n",
      " 41  2 34 23 15  7  6  8 13 21 39 16 19 10 23  8 12 32 25  9 32  6  7 17\n",
      " 41  6  1 38 30 38 26 18 21 16 13 27 34 11 15 41 29  6 17 17 10 25 35  3\n",
      " 34 36 30 38  1 36 24 12 13  9 19 31 18 15 16 29 35 14  5 33  8 26 22 24\n",
      " 16 33 12 33  9 40  1 24 35 12 26 35 20 28 14  6 22 26 15 41 17 14 37 40\n",
      " 18 21 23 10 12 24  1  9 39  3 29  8 41 16 38  2 30 26  6 29 38 33 37 21\n",
      " 25 24 17  1 15 20  4 36 31  6 23 26 26 26 38 27 17 12 12 12 35 39 22 24\n",
      " 19 11  5 40 32 26 15  9 17 28 27 11 19 11 22 30 35  6 13 14 16 40  9 34\n",
      "  2 30 18 35 30 37  3 23 34 14 10 11 13 26 29 29 37  6 39 38 36  6 32 26\n",
      " 39 20 41 39 33 17 13 19 27 12 13  6 12 12 26  2  5 25  5 10 18 37  7 26\n",
      "  3 23 28 24  5 18 14 31  4 31 25 27  3 38 11 12]\n"
     ]
    }
   ],
   "source": [
    "#Creating a subset of the dataset using the name of the column\n",
    "print(\"Using column name::\")\n",
    "print(df.quantity_purchased.values)"
   ]
  },
  {
   "cell_type": "code",
   "execution_count": 24,
   "id": "585c444e-09e4-4558-9f01-0e9f87e2d66e",
   "metadata": {},
   "outputs": [
    {
     "name": "stdout",
     "output_type": "stream",
     "text": [
      "Select specific row indices::\n",
      "     serial_no        date  user_id  product_id  quantity_purchased    price  \\\n",
      "10        1010         NaN     5467         947                   7  2770.73   \n",
      "501       1501  2016-01-24     5183         200                  41  1991.38   \n",
      "20        1020         NaN     5254         124                  12  3406.04   \n",
      "\n",
      "    user_type  \n",
      "10          n  \n",
      "501         d  \n",
      "20          n  \n"
     ]
    }
   ],
   "source": [
    "#splitting the dataframe by row indices\n",
    "print(\"Select specific row indices::\")\n",
    "print(df.iloc[[10,501,20]])"
   ]
  },
  {
   "cell_type": "code",
   "execution_count": 25,
   "id": "9b093423-ccea-41c0-af64-34de50cadae2",
   "metadata": {},
   "outputs": [
    {
     "name": "stdout",
     "output_type": "stream",
     "text": [
      "excluding specific row indices::\n",
      "   serial_no        date  user_id  product_id  quantity_purchased    price  \\\n",
      "1       1001         NaN     5183         200                  11  4489.90   \n",
      "2       1002         NaN     5065         229                  20  2456.06   \n",
      "3       1003         NaN     5909         439                  32   397.36   \n",
      "4       1004  2016-02-04     5560         570                   3  1721.89   \n",
      "5       1005         NaN     5104         556                  11  2243.98   \n",
      "\n",
      "  user_type  \n",
      "1         n  \n",
      "2         n  \n",
      "3         n  \n",
      "4         n  \n",
      "5         n  \n"
     ]
    }
   ],
   "source": [
    "print(\"excluding specific row indices::\")\n",
    "print(df.drop([0,24,51], axis = 0).head())"
   ]
  },
  {
   "cell_type": "code",
   "execution_count": 26,
   "id": "0bdf8732-ed8c-43dd-9d1a-767666261352",
   "metadata": {},
   "outputs": [
    {
     "name": "stdout",
     "output_type": "stream",
     "text": [
      "Creating a subset based on logical conditions(s)::\n",
      "    serial_no        date  user_id  product_id  quantity_purchased    price  \\\n",
      "3        1003         NaN     5909         439                  32   397.36   \n",
      "6        1006         NaN     5498         452                  27  2434.05   \n",
      "7        1007  2016-01-29     5258         677                  28  5303.69   \n",
      "11       1011         NaN     5338         848                  41  1307.42   \n",
      "13       1013  2016-01-20     5838         957                  30  3882.12   \n",
      "\n",
      "   user_type  \n",
      "3          n  \n",
      "6          n  \n",
      "7          n  \n",
      "11         n  \n",
      "13         n  \n"
     ]
    }
   ],
   "source": [
    "#creating a set based in logical conditions.\n",
    "print(\"Creating a subset based on logical conditions(s)::\")\n",
    "print(df[df.quantity_purchased>25].head())"
   ]
  },
  {
   "cell_type": "code",
   "execution_count": 28,
   "id": "39fd0643-9242-4cf9-bcc2-0649d2783d73",
   "metadata": {},
   "outputs": [
    {
     "name": "stdout",
     "output_type": "stream",
     "text": [
      "Subsetting based on offset from top (bottom)\n",
      "     serial_no        date  user_id  product_id  quantity_purchased    price  \\\n",
      "100       1100  2016-01-14     5200         256                  34  2614.96   \n",
      "101       1101  2016-02-01     5183         200                  12  1653.19   \n",
      "102       1102  2016-01-13     5065         229                   4  2343.58   \n",
      "103       1103  2016-01-17     5909         439                  11   966.36   \n",
      "104       1104  2016-02-08     5560         570                  19  3964.39   \n",
      "\n",
      "    user_type  \n",
      "100         a  \n",
      "101         a  \n",
      "102         d  \n",
      "103         c  \n",
      "104         c        serial_no        date  user_id  product_id  quantity_purchased    price  \\\n",
      "100       1100  2016-01-14     5200         256                  34  2614.96   \n",
      "101       1101  2016-02-01     5183         200                  12  1653.19   \n",
      "102       1102  2016-01-13     5065         229                   4  2343.58   \n",
      "103       1103  2016-01-17     5909         439                  11   966.36   \n",
      "104       1104  2016-02-08     5560         570                  19  3964.39   \n",
      "..         ...         ...      ...         ...                 ...      ...   \n",
      "995       1995  2016-02-07     5773         710                  27  2020.02   \n",
      "996       1996  2016-01-15     5545         627                   3   397.91   \n",
      "997       1997  2016-01-26     5345         451                  38  4588.08   \n",
      "998       1998  2016-01-17     5837         922                  11  2203.14   \n",
      "999       1999  2016-02-06     5597         739                  12  3366.29   \n",
      "\n",
      "    user_type  \n",
      "100         a  \n",
      "101         a  \n",
      "102         d  \n",
      "103         c  \n",
      "104         c  \n",
      "..        ...  \n",
      "995         b  \n",
      "996         b  \n",
      "997         c  \n",
      "998         b  \n",
      "999         d  \n",
      "\n",
      "[900 rows x 7 columns]\n"
     ]
    }
   ],
   "source": [
    "print(\"Subsetting based on offset from top (bottom)\")\n",
    "print(df[100:].head(), df.tail(-100) )"
   ]
  },
  {
   "cell_type": "markdown",
   "id": "239d6f7a-0bb2-47b9-803b-a2ddffda2216",
   "metadata": {},
   "source": [
    "### Typecasting"
   ]
  },
  {
   "cell_type": "code",
   "execution_count": 29,
   "id": "118fbfd1-e347-4aee-832a-868ac462dc61",
   "metadata": {},
   "outputs": [
    {
     "name": "stdout",
     "output_type": "stream",
     "text": [
      "serial_no                      int64\n",
      "date                  datetime64[ns]\n",
      "user_id                        int64\n",
      "product_id                     int64\n",
      "quantity_purchased             int64\n",
      "price                        float64\n",
      "user_type                     object\n",
      "dtype: object\n"
     ]
    }
   ],
   "source": [
    "#converting the date column into another format \n",
    "df['date'] = pd.to_datetime(df.date)\n",
    "print(df.dtypes)"
   ]
  },
  {
   "cell_type": "markdown",
   "id": "7068a789-1cc6-4da3-baf3-fd372101d586",
   "metadata": {},
   "source": [
    "### Transformations"
   ]
  },
  {
   "cell_type": "code",
   "execution_count": 30,
   "id": "b5a2fc81-eab4-4a47-88d7-1c0b5871b9ac",
   "metadata": {},
   "outputs": [],
   "source": [
    "#transform existing columns or derive nw atributes based on requirements\n",
    "\"\"\"Maps user types to user classes.\"\"\"\n",
    "def expand_user_type(u_type):\n",
    "    if u_type in ['a','b']:\n",
    "        return 'new'\n",
    "    elif u_type == 'c':\n",
    "        return 'existing'\n",
    "    elif u_type == 'd':\n",
    "        return 'loyal_existing'\n",
    "    else:\n",
    "        return 'error'\n",
    "\n",
    "df['user_class'] = df['user_type'].map(expand_user_type)"
   ]
  },
  {
   "cell_type": "code",
   "execution_count": 34,
   "id": "b6e8e4f5-d46c-440f-8a69-a3a94c0d9149",
   "metadata": {},
   "outputs": [
    {
     "name": "stderr",
     "output_type": "stream",
     "text": [
      "/var/folders/p9/kd2njf997_7bs4hbnrvzl6yc0000gp/T/ipykernel_17337/3561167577.py:2: FutureWarning: DataFrame.applymap has been deprecated. Use DataFrame.map instead.\n",
      "  df['purchase_week'] = df[['date']].applymap(lambda dt:dt.week\n"
     ]
    },
    {
     "data": {
      "text/html": [
       "<div>\n",
       "<style scoped>\n",
       "    .dataframe tbody tr th:only-of-type {\n",
       "        vertical-align: middle;\n",
       "    }\n",
       "\n",
       "    .dataframe tbody tr th {\n",
       "        vertical-align: top;\n",
       "    }\n",
       "\n",
       "    .dataframe thead th {\n",
       "        text-align: right;\n",
       "    }\n",
       "</style>\n",
       "<table border=\"1\" class=\"dataframe\">\n",
       "  <thead>\n",
       "    <tr style=\"text-align: right;\">\n",
       "      <th></th>\n",
       "      <th>serial_no</th>\n",
       "      <th>date</th>\n",
       "      <th>user_id</th>\n",
       "      <th>product_id</th>\n",
       "      <th>quantity_purchased</th>\n",
       "      <th>price</th>\n",
       "      <th>user_type</th>\n",
       "      <th>user_class</th>\n",
       "      <th>purchase_week</th>\n",
       "    </tr>\n",
       "  </thead>\n",
       "  <tbody>\n",
       "    <tr>\n",
       "      <th>0</th>\n",
       "      <td>1000</td>\n",
       "      <td>NaT</td>\n",
       "      <td>-101</td>\n",
       "      <td>0</td>\n",
       "      <td>6</td>\n",
       "      <td>NaN</td>\n",
       "      <td>n</td>\n",
       "      <td>error</td>\n",
       "      <td>0</td>\n",
       "    </tr>\n",
       "    <tr>\n",
       "      <th>1</th>\n",
       "      <td>1001</td>\n",
       "      <td>NaT</td>\n",
       "      <td>5183</td>\n",
       "      <td>200</td>\n",
       "      <td>11</td>\n",
       "      <td>4489.90</td>\n",
       "      <td>n</td>\n",
       "      <td>error</td>\n",
       "      <td>0</td>\n",
       "    </tr>\n",
       "    <tr>\n",
       "      <th>2</th>\n",
       "      <td>1002</td>\n",
       "      <td>NaT</td>\n",
       "      <td>5065</td>\n",
       "      <td>229</td>\n",
       "      <td>20</td>\n",
       "      <td>2456.06</td>\n",
       "      <td>n</td>\n",
       "      <td>error</td>\n",
       "      <td>0</td>\n",
       "    </tr>\n",
       "    <tr>\n",
       "      <th>3</th>\n",
       "      <td>1003</td>\n",
       "      <td>NaT</td>\n",
       "      <td>5909</td>\n",
       "      <td>439</td>\n",
       "      <td>32</td>\n",
       "      <td>397.36</td>\n",
       "      <td>n</td>\n",
       "      <td>error</td>\n",
       "      <td>0</td>\n",
       "    </tr>\n",
       "    <tr>\n",
       "      <th>4</th>\n",
       "      <td>1004</td>\n",
       "      <td>2016-02-04</td>\n",
       "      <td>5560</td>\n",
       "      <td>570</td>\n",
       "      <td>3</td>\n",
       "      <td>1721.89</td>\n",
       "      <td>n</td>\n",
       "      <td>error</td>\n",
       "      <td>5</td>\n",
       "    </tr>\n",
       "  </tbody>\n",
       "</table>\n",
       "</div>"
      ],
      "text/plain": [
       "   serial_no       date  user_id  product_id  quantity_purchased    price  \\\n",
       "0       1000        NaT     -101           0                   6      NaN   \n",
       "1       1001        NaT     5183         200                  11  4489.90   \n",
       "2       1002        NaT     5065         229                  20  2456.06   \n",
       "3       1003        NaT     5909         439                  32   397.36   \n",
       "4       1004 2016-02-04     5560         570                   3  1721.89   \n",
       "\n",
       "  user_type user_class  purchase_week  \n",
       "0         n      error              0  \n",
       "1         n      error              0  \n",
       "2         n      error              0  \n",
       "3         n      error              0  \n",
       "4         n      error              5  "
      ]
     },
     "execution_count": 34,
     "metadata": {},
     "output_type": "execute_result"
    }
   ],
   "source": [
    "#Adding a new column to our dataset extracting the week from the date column uisng a lamdba function\n",
    "df['purchase_week'] = df[['date']].applymap(lambda dt:dt.week\n",
    "                                            if not pd.isnull(dt.week)\n",
    "                                            else 0)\n",
    "df.head()"
   ]
  },
  {
   "cell_type": "code",
   "execution_count": 35,
   "id": "c1d17ced-1f02-457b-af9f-0a02df5aead5",
   "metadata": {},
   "outputs": [
    {
     "data": {
      "text/plain": [
       "serial_no             2000.00\n",
       "user_id               6085.00\n",
       "product_id            1096.00\n",
       "quantity_purchased      40.00\n",
       "price                 7654.41\n",
       "purchase_week           53.00\n",
       "dtype: float64"
      ]
     },
     "execution_count": 35,
     "metadata": {},
     "output_type": "execute_result"
    }
   ],
   "source": [
    "#getting the max and min value for all numeric atributes\n",
    "df.select_dtypes(include=[np.number]).apply(lambda x: x.max() - x.min())"
   ]
  },
  {
   "cell_type": "code",
   "execution_count": 36,
   "id": "f0ac3a8f-6f13-4ba7-b94e-da01ffca72b0",
   "metadata": {},
   "outputs": [
    {
     "name": "stdout",
     "output_type": "stream",
     "text": [
      "drop Rows with missing dates::\n",
      "Shape:: (969, 9)\n"
     ]
    }
   ],
   "source": [
    "#imputing missing values\n",
    "print(\"drop Rows with missing dates::\")\n",
    "df_dropped = df.dropna(subset=['date'])\n",
    "print(\"Shape::\",df_dropped.shape)"
   ]
  },
  {
   "cell_type": "code",
   "execution_count": 37,
   "id": "2e56c10e-e939-4dad-ae77-d4f9a9db524d",
   "metadata": {},
   "outputs": [
    {
     "name": "stdout",
     "output_type": "stream",
     "text": [
      "Fill missing price values with mean price::\n"
     ]
    },
    {
     "name": "stderr",
     "output_type": "stream",
     "text": [
      "/var/folders/p9/kd2njf997_7bs4hbnrvzl6yc0000gp/T/ipykernel_17337/1260118747.py:3: SettingWithCopyWarning: \n",
      "A value is trying to be set on a copy of a slice from a DataFrame\n",
      "\n",
      "See the caveats in the documentation: https://pandas.pydata.org/pandas-docs/stable/user_guide/indexing.html#returning-a-view-versus-a-copy\n",
      "  df_dropped['price'].fillna(value=np.round(df.price.mean(),decimals=2),inplace=True)\n"
     ]
    },
    {
     "data": {
      "text/html": [
       "<div>\n",
       "<style scoped>\n",
       "    .dataframe tbody tr th:only-of-type {\n",
       "        vertical-align: middle;\n",
       "    }\n",
       "\n",
       "    .dataframe tbody tr th {\n",
       "        vertical-align: top;\n",
       "    }\n",
       "\n",
       "    .dataframe thead th {\n",
       "        text-align: right;\n",
       "    }\n",
       "</style>\n",
       "<table border=\"1\" class=\"dataframe\">\n",
       "  <thead>\n",
       "    <tr style=\"text-align: right;\">\n",
       "      <th></th>\n",
       "      <th>serial_no</th>\n",
       "      <th>date</th>\n",
       "      <th>user_id</th>\n",
       "      <th>product_id</th>\n",
       "      <th>quantity_purchased</th>\n",
       "      <th>price</th>\n",
       "      <th>user_type</th>\n",
       "      <th>user_class</th>\n",
       "      <th>purchase_week</th>\n",
       "    </tr>\n",
       "  </thead>\n",
       "  <tbody>\n",
       "    <tr>\n",
       "      <th>4</th>\n",
       "      <td>1004</td>\n",
       "      <td>2016-02-04</td>\n",
       "      <td>5560</td>\n",
       "      <td>570</td>\n",
       "      <td>3</td>\n",
       "      <td>1721.89</td>\n",
       "      <td>n</td>\n",
       "      <td>error</td>\n",
       "      <td>5</td>\n",
       "    </tr>\n",
       "    <tr>\n",
       "      <th>7</th>\n",
       "      <td>1007</td>\n",
       "      <td>2016-01-29</td>\n",
       "      <td>5258</td>\n",
       "      <td>677</td>\n",
       "      <td>28</td>\n",
       "      <td>5303.69</td>\n",
       "      <td>n</td>\n",
       "      <td>error</td>\n",
       "      <td>4</td>\n",
       "    </tr>\n",
       "    <tr>\n",
       "      <th>9</th>\n",
       "      <td>1009</td>\n",
       "      <td>2016-01-10</td>\n",
       "      <td>5631</td>\n",
       "      <td>861</td>\n",
       "      <td>15</td>\n",
       "      <td>384.21</td>\n",
       "      <td>n</td>\n",
       "      <td>error</td>\n",
       "      <td>1</td>\n",
       "    </tr>\n",
       "    <tr>\n",
       "      <th>12</th>\n",
       "      <td>1012</td>\n",
       "      <td>2016-01-20</td>\n",
       "      <td>5076</td>\n",
       "      <td>370</td>\n",
       "      <td>24</td>\n",
       "      <td>2627.57</td>\n",
       "      <td>n</td>\n",
       "      <td>error</td>\n",
       "      <td>3</td>\n",
       "    </tr>\n",
       "    <tr>\n",
       "      <th>13</th>\n",
       "      <td>1013</td>\n",
       "      <td>2016-01-20</td>\n",
       "      <td>5838</td>\n",
       "      <td>957</td>\n",
       "      <td>30</td>\n",
       "      <td>3882.12</td>\n",
       "      <td>n</td>\n",
       "      <td>error</td>\n",
       "      <td>3</td>\n",
       "    </tr>\n",
       "    <tr>\n",
       "      <th>...</th>\n",
       "      <td>...</td>\n",
       "      <td>...</td>\n",
       "      <td>...</td>\n",
       "      <td>...</td>\n",
       "      <td>...</td>\n",
       "      <td>...</td>\n",
       "      <td>...</td>\n",
       "      <td>...</td>\n",
       "      <td>...</td>\n",
       "    </tr>\n",
       "    <tr>\n",
       "      <th>995</th>\n",
       "      <td>1995</td>\n",
       "      <td>2016-02-07</td>\n",
       "      <td>5773</td>\n",
       "      <td>710</td>\n",
       "      <td>27</td>\n",
       "      <td>2020.02</td>\n",
       "      <td>b</td>\n",
       "      <td>new</td>\n",
       "      <td>5</td>\n",
       "    </tr>\n",
       "    <tr>\n",
       "      <th>996</th>\n",
       "      <td>1996</td>\n",
       "      <td>2016-01-15</td>\n",
       "      <td>5545</td>\n",
       "      <td>627</td>\n",
       "      <td>3</td>\n",
       "      <td>397.91</td>\n",
       "      <td>b</td>\n",
       "      <td>new</td>\n",
       "      <td>2</td>\n",
       "    </tr>\n",
       "    <tr>\n",
       "      <th>997</th>\n",
       "      <td>1997</td>\n",
       "      <td>2016-01-26</td>\n",
       "      <td>5345</td>\n",
       "      <td>451</td>\n",
       "      <td>38</td>\n",
       "      <td>4588.08</td>\n",
       "      <td>c</td>\n",
       "      <td>existing</td>\n",
       "      <td>4</td>\n",
       "    </tr>\n",
       "    <tr>\n",
       "      <th>998</th>\n",
       "      <td>1998</td>\n",
       "      <td>2016-01-17</td>\n",
       "      <td>5837</td>\n",
       "      <td>922</td>\n",
       "      <td>11</td>\n",
       "      <td>2203.14</td>\n",
       "      <td>b</td>\n",
       "      <td>new</td>\n",
       "      <td>2</td>\n",
       "    </tr>\n",
       "    <tr>\n",
       "      <th>999</th>\n",
       "      <td>1999</td>\n",
       "      <td>2016-02-06</td>\n",
       "      <td>5597</td>\n",
       "      <td>739</td>\n",
       "      <td>12</td>\n",
       "      <td>3366.29</td>\n",
       "      <td>d</td>\n",
       "      <td>loyal_existing</td>\n",
       "      <td>5</td>\n",
       "    </tr>\n",
       "  </tbody>\n",
       "</table>\n",
       "<p>969 rows × 9 columns</p>\n",
       "</div>"
      ],
      "text/plain": [
       "     serial_no       date  user_id  product_id  quantity_purchased    price  \\\n",
       "4         1004 2016-02-04     5560         570                   3  1721.89   \n",
       "7         1007 2016-01-29     5258         677                  28  5303.69   \n",
       "9         1009 2016-01-10     5631         861                  15   384.21   \n",
       "12        1012 2016-01-20     5076         370                  24  2627.57   \n",
       "13        1013 2016-01-20     5838         957                  30  3882.12   \n",
       "..         ...        ...      ...         ...                 ...      ...   \n",
       "995       1995 2016-02-07     5773         710                  27  2020.02   \n",
       "996       1996 2016-01-15     5545         627                   3   397.91   \n",
       "997       1997 2016-01-26     5345         451                  38  4588.08   \n",
       "998       1998 2016-01-17     5837         922                  11  2203.14   \n",
       "999       1999 2016-02-06     5597         739                  12  3366.29   \n",
       "\n",
       "    user_type      user_class  purchase_week  \n",
       "4           n           error              5  \n",
       "7           n           error              4  \n",
       "9           n           error              1  \n",
       "12          n           error              3  \n",
       "13          n           error              3  \n",
       "..        ...             ...            ...  \n",
       "995         b             new              5  \n",
       "996         b             new              2  \n",
       "997         c        existing              4  \n",
       "998         b             new              2  \n",
       "999         d  loyal_existing              5  \n",
       "\n",
       "[969 rows x 9 columns]"
      ]
     },
     "execution_count": 37,
     "metadata": {},
     "output_type": "execute_result"
    }
   ],
   "source": [
    "#Fill missing price with the mean of the price column\n",
    "print(\"Fill missing price values with mean price::\")\n",
    "df_dropped['price'].fillna(value=np.round(df.price.mean(),decimals=2),inplace=True)\n",
    "df_dropped"
   ]
  },
  {
   "cell_type": "code",
   "execution_count": 41,
   "id": "fa7776e4-d777-463e-8cd9-bdd0a1f181d8",
   "metadata": {},
   "outputs": [
    {
     "name": "stdout",
     "output_type": "stream",
     "text": [
      "Fill Missing user_type values with value from previous row (forward fill) ::\n"
     ]
    },
    {
     "name": "stderr",
     "output_type": "stream",
     "text": [
      "/var/folders/p9/kd2njf997_7bs4hbnrvzl6yc0000gp/T/ipykernel_17337/480183111.py:3: SettingWithCopyWarning: \n",
      "A value is trying to be set on a copy of a slice from a DataFrame.\n",
      "Try using .loc[row_indexer,col_indexer] = value instead\n",
      "\n",
      "See the caveats in the documentation: https://pandas.pydata.org/pandas-docs/stable/user_guide/indexing.html#returning-a-view-versus-a-copy\n",
      "  df_dropped['user_type'] = df_dropped['user_type'].ffill()\n"
     ]
    }
   ],
   "source": [
    "#Fill missing user_type in other ways. \n",
    "print(\"Fill Missing user_type values with value from previous row (forward fill) ::\")\n",
    "df_dropped['user_type'] = df_dropped['user_type'].ffill()"
   ]
  },
  {
   "cell_type": "code",
   "execution_count": 40,
   "id": "4a0164a5-5d4c-46c6-b313-be51f404d8e8",
   "metadata": {},
   "outputs": [
    {
     "name": "stdout",
     "output_type": "stream",
     "text": [
      "Fill Missing user_type values with value from             next row (backward fill) ::\n"
     ]
    },
    {
     "name": "stderr",
     "output_type": "stream",
     "text": [
      "/var/folders/p9/kd2njf997_7bs4hbnrvzl6yc0000gp/T/ipykernel_17337/1857758321.py:3: FutureWarning: Series.fillna with 'method' is deprecated and will raise in a future version. Use obj.ffill() or obj.bfill() instead.\n",
      "  df_dropped['user_type'].fillna(method='bfill',inplace=True)\n",
      "/var/folders/p9/kd2njf997_7bs4hbnrvzl6yc0000gp/T/ipykernel_17337/1857758321.py:3: SettingWithCopyWarning: \n",
      "A value is trying to be set on a copy of a slice from a DataFrame\n",
      "\n",
      "See the caveats in the documentation: https://pandas.pydata.org/pandas-docs/stable/user_guide/indexing.html#returning-a-view-versus-a-copy\n",
      "  df_dropped['user_type'].fillna(method='bfill',inplace=True)\n"
     ]
    }
   ],
   "source": [
    "print(\"Fill Missing user_type values with value from \\\n",
    "            next row (backward fill) ::\")\n",
    "df_dropped['user_type'].fillna(method='bfill',inplace=True)"
   ]
  },
  {
   "cell_type": "code",
   "execution_count": 42,
   "id": "508fa66e-99d4-4717-b567-aa6ff39944ba",
   "metadata": {},
   "outputs": [
    {
     "name": "stdout",
     "output_type": "stream",
     "text": [
      "Fill Missing user_type values with value from next row (backward fill) ::\n"
     ]
    },
    {
     "name": "stderr",
     "output_type": "stream",
     "text": [
      "/var/folders/p9/kd2njf997_7bs4hbnrvzl6yc0000gp/T/ipykernel_17337/1594462192.py:3: SettingWithCopyWarning: \n",
      "A value is trying to be set on a copy of a slice from a DataFrame.\n",
      "Try using .loc[row_indexer,col_indexer] = value instead\n",
      "\n",
      "See the caveats in the documentation: https://pandas.pydata.org/pandas-docs/stable/user_guide/indexing.html#returning-a-view-versus-a-copy\n",
      "  df_dropped['user_type'] = df_dropped['user_type'].bfill()\n"
     ]
    }
   ],
   "source": [
    "# Fill Missing user_type values with value from next row (backward fill)\n",
    "print(\"Fill Missing user_type values with value from next row (backward fill) ::\")\n",
    "df_dropped['user_type'] = df_dropped['user_type'].bfill()"
   ]
  },
  {
   "cell_type": "markdown",
   "id": "7061a513-1478-4d8e-9f06-78af9c3c9339",
   "metadata": {},
   "source": [
    "### Duplicates"
   ]
  },
  {
   "cell_type": "code",
   "execution_count": 45,
   "id": "5100db9e-7ee7-4d5b-8a14-865ed80db914",
   "metadata": {},
   "outputs": [
    {
     "name": "stderr",
     "output_type": "stream",
     "text": [
      "/var/folders/p9/kd2njf997_7bs4hbnrvzl6yc0000gp/T/ipykernel_17337/2430735766.py:3: SettingWithCopyWarning: \n",
      "A value is trying to be set on a copy of a slice from a DataFrame\n",
      "\n",
      "See the caveats in the documentation: https://pandas.pydata.org/pandas-docs/stable/user_guide/indexing.html#returning-a-view-versus-a-copy\n",
      "  df_dropped.drop_duplicates(subset=['serial_no'],inplace=True)\n"
     ]
    }
   ],
   "source": [
    "#Identifying and deleting duplicates\n",
    "df_dropped[df_dropped.duplicated(subset=['serial_no'])]\n",
    "df_dropped.drop_duplicates(subset=['serial_no'],inplace=True)"
   ]
  },
  {
   "cell_type": "code",
   "execution_count": 49,
   "id": "50a94dcb-8b42-40db-bc37-6939378efc24",
   "metadata": {},
   "outputs": [
    {
     "data": {
      "text/html": [
       "<div>\n",
       "<style scoped>\n",
       "    .dataframe tbody tr th:only-of-type {\n",
       "        vertical-align: middle;\n",
       "    }\n",
       "\n",
       "    .dataframe tbody tr th {\n",
       "        vertical-align: top;\n",
       "    }\n",
       "\n",
       "    .dataframe thead th {\n",
       "        text-align: right;\n",
       "    }\n",
       "</style>\n",
       "<table border=\"1\" class=\"dataframe\">\n",
       "  <thead>\n",
       "    <tr style=\"text-align: right;\">\n",
       "      <th></th>\n",
       "      <th>serial_no</th>\n",
       "      <th>date</th>\n",
       "      <th>user_id</th>\n",
       "      <th>product_id</th>\n",
       "      <th>quantity_purchased</th>\n",
       "      <th>price</th>\n",
       "      <th>user_type</th>\n",
       "      <th>user_class</th>\n",
       "      <th>purchase_week</th>\n",
       "    </tr>\n",
       "  </thead>\n",
       "  <tbody>\n",
       "    <tr>\n",
       "      <th>0</th>\n",
       "      <td>1000</td>\n",
       "      <td>NaT</td>\n",
       "      <td>-101</td>\n",
       "      <td>0</td>\n",
       "      <td>6</td>\n",
       "      <td>NaN</td>\n",
       "      <td>n</td>\n",
       "      <td>error</td>\n",
       "      <td>0</td>\n",
       "    </tr>\n",
       "    <tr>\n",
       "      <th>1</th>\n",
       "      <td>1001</td>\n",
       "      <td>NaT</td>\n",
       "      <td>5183</td>\n",
       "      <td>200</td>\n",
       "      <td>11</td>\n",
       "      <td>4489.90</td>\n",
       "      <td>n</td>\n",
       "      <td>error</td>\n",
       "      <td>0</td>\n",
       "    </tr>\n",
       "    <tr>\n",
       "      <th>2</th>\n",
       "      <td>1002</td>\n",
       "      <td>NaT</td>\n",
       "      <td>5065</td>\n",
       "      <td>229</td>\n",
       "      <td>20</td>\n",
       "      <td>2456.06</td>\n",
       "      <td>n</td>\n",
       "      <td>error</td>\n",
       "      <td>0</td>\n",
       "    </tr>\n",
       "    <tr>\n",
       "      <th>3</th>\n",
       "      <td>1003</td>\n",
       "      <td>NaT</td>\n",
       "      <td>5909</td>\n",
       "      <td>439</td>\n",
       "      <td>32</td>\n",
       "      <td>397.36</td>\n",
       "      <td>n</td>\n",
       "      <td>error</td>\n",
       "      <td>0</td>\n",
       "    </tr>\n",
       "    <tr>\n",
       "      <th>4</th>\n",
       "      <td>1004</td>\n",
       "      <td>2016-02-04</td>\n",
       "      <td>5560</td>\n",
       "      <td>570</td>\n",
       "      <td>3</td>\n",
       "      <td>1721.89</td>\n",
       "      <td>n</td>\n",
       "      <td>error</td>\n",
       "      <td>5</td>\n",
       "    </tr>\n",
       "  </tbody>\n",
       "</table>\n",
       "</div>"
      ],
      "text/plain": [
       "   serial_no       date  user_id  product_id  quantity_purchased    price  \\\n",
       "0       1000        NaT     -101           0                   6      NaN   \n",
       "1       1001        NaT     5183         200                  11  4489.90   \n",
       "2       1002        NaT     5065         229                  20  2456.06   \n",
       "3       1003        NaT     5909         439                  32   397.36   \n",
       "4       1004 2016-02-04     5560         570                   3  1721.89   \n",
       "\n",
       "  user_type user_class  purchase_week  \n",
       "0         n      error              0  \n",
       "1         n      error              0  \n",
       "2         n      error              0  \n",
       "3         n      error              0  \n",
       "4         n      error              5  "
      ]
     },
     "execution_count": 49,
     "metadata": {},
     "output_type": "execute_result"
    }
   ],
   "source": [
    "df.head()"
   ]
  },
  {
   "cell_type": "code",
   "execution_count": 46,
   "id": "f642520e-fc99-45a6-b0c2-932ec07d7358",
   "metadata": {},
   "outputs": [
    {
     "data": {
      "text/html": [
       "<div>\n",
       "<style scoped>\n",
       "    .dataframe tbody tr th:only-of-type {\n",
       "        vertical-align: middle;\n",
       "    }\n",
       "\n",
       "    .dataframe tbody tr th {\n",
       "        vertical-align: top;\n",
       "    }\n",
       "\n",
       "    .dataframe thead th {\n",
       "        text-align: right;\n",
       "    }\n",
       "</style>\n",
       "<table border=\"1\" class=\"dataframe\">\n",
       "  <thead>\n",
       "    <tr style=\"text-align: right;\">\n",
       "      <th></th>\n",
       "      <th>serial_no</th>\n",
       "      <th>date</th>\n",
       "      <th>user_id</th>\n",
       "      <th>product_id</th>\n",
       "      <th>quantity_purchased</th>\n",
       "      <th>price</th>\n",
       "      <th>user_type</th>\n",
       "      <th>user_class</th>\n",
       "      <th>purchase_week</th>\n",
       "    </tr>\n",
       "  </thead>\n",
       "  <tbody>\n",
       "    <tr>\n",
       "      <th>4</th>\n",
       "      <td>1004</td>\n",
       "      <td>2016-02-04</td>\n",
       "      <td>5560</td>\n",
       "      <td>570</td>\n",
       "      <td>3</td>\n",
       "      <td>1721.89</td>\n",
       "      <td>n</td>\n",
       "      <td>error</td>\n",
       "      <td>5</td>\n",
       "    </tr>\n",
       "    <tr>\n",
       "      <th>7</th>\n",
       "      <td>1007</td>\n",
       "      <td>2016-01-29</td>\n",
       "      <td>5258</td>\n",
       "      <td>677</td>\n",
       "      <td>28</td>\n",
       "      <td>5303.69</td>\n",
       "      <td>n</td>\n",
       "      <td>error</td>\n",
       "      <td>4</td>\n",
       "    </tr>\n",
       "    <tr>\n",
       "      <th>9</th>\n",
       "      <td>1009</td>\n",
       "      <td>2016-01-10</td>\n",
       "      <td>5631</td>\n",
       "      <td>861</td>\n",
       "      <td>15</td>\n",
       "      <td>384.21</td>\n",
       "      <td>n</td>\n",
       "      <td>error</td>\n",
       "      <td>1</td>\n",
       "    </tr>\n",
       "    <tr>\n",
       "      <th>12</th>\n",
       "      <td>1012</td>\n",
       "      <td>2016-01-20</td>\n",
       "      <td>5076</td>\n",
       "      <td>370</td>\n",
       "      <td>24</td>\n",
       "      <td>2627.57</td>\n",
       "      <td>n</td>\n",
       "      <td>error</td>\n",
       "      <td>3</td>\n",
       "    </tr>\n",
       "    <tr>\n",
       "      <th>13</th>\n",
       "      <td>1013</td>\n",
       "      <td>2016-01-20</td>\n",
       "      <td>5838</td>\n",
       "      <td>957</td>\n",
       "      <td>30</td>\n",
       "      <td>3882.12</td>\n",
       "      <td>n</td>\n",
       "      <td>error</td>\n",
       "      <td>3</td>\n",
       "    </tr>\n",
       "  </tbody>\n",
       "</table>\n",
       "</div>"
      ],
      "text/plain": [
       "    serial_no       date  user_id  product_id  quantity_purchased    price  \\\n",
       "4        1004 2016-02-04     5560         570                   3  1721.89   \n",
       "7        1007 2016-01-29     5258         677                  28  5303.69   \n",
       "9        1009 2016-01-10     5631         861                  15   384.21   \n",
       "12       1012 2016-01-20     5076         370                  24  2627.57   \n",
       "13       1013 2016-01-20     5838         957                  30  3882.12   \n",
       "\n",
       "   user_type user_class  purchase_week  \n",
       "4          n      error              5  \n",
       "7          n      error              4  \n",
       "9          n      error              1  \n",
       "12         n      error              3  \n",
       "13         n      error              3  "
      ]
     },
     "execution_count": 46,
     "metadata": {},
     "output_type": "execute_result"
    }
   ],
   "source": [
    "df_dropped.head()"
   ]
  },
  {
   "cell_type": "code",
   "execution_count": 54,
   "id": "acd4f375-4eb9-4469-8772-8795875689e5",
   "metadata": {},
   "outputs": [
    {
     "name": "stdout",
     "output_type": "stream",
     "text": [
      "******************************\n",
      "Encoding Categorical Variables\n",
      "******************************\n",
      "   serial_no       date  user_id  product_id  quantity_purchased    price  \\\n",
      "0       1000        NaT     -101           0                   6      NaN   \n",
      "1       1001        NaT     5183         200                  11  4489.90   \n",
      "2       1002        NaT     5065         229                  20  2456.06   \n",
      "3       1003        NaT     5909         439                  32   397.36   \n",
      "4       1004 2016-02-04     5560         570                   3  1721.89   \n",
      "\n",
      "  user_class  purchase_week  encoded_user_type  user_type_a  user_type_b  \\\n",
      "0      error              0                NaN        False        False   \n",
      "1      error              0                NaN        False        False   \n",
      "2      error              0                NaN        False        False   \n",
      "3      error              0                NaN        False        False   \n",
      "4      error              5                NaN        False        False   \n",
      "\n",
      "   user_type_c  user_type_d  user_type_n  \n",
      "0        False        False         True  \n",
      "1        False        False         True  \n",
      "2        False        False         True  \n",
      "3        False        False         True  \n",
      "4        False        False         True  \n",
      "\n",
      "\n",
      "   serial_no       date  user_id  product_id  quantity_purchased    price  \\\n",
      "0       1000        NaT     -101           0                   6      NaN   \n",
      "1       1001        NaT     5183         200                  11  4489.90   \n",
      "2       1002        NaT     5065         229                  20  2456.06   \n",
      "3       1003        NaT     5909         439                  32   397.36   \n",
      "4       1004 2016-02-04     5560         570                   3  1721.89   \n",
      "\n",
      "  user_type user_class  purchase_week  encoded_user_type  \n",
      "0         n      error              0                NaN  \n",
      "1         n      error              0                NaN  \n",
      "2         n      error              0                NaN  \n",
      "3         n      error              0                NaN  \n",
      "4         n      error              5                NaN  \n",
      "\n",
      "\n"
     ]
    }
   ],
   "source": [
    "#categorical data and how to encode it.\n",
    "print(\"*\"*30)\n",
    "print(\"Encoding Categorical Variables\")\n",
    "print(\"*\"*30)\n",
    "print(pd.get_dummies(df,columns=['user_type']).head())\n",
    "print(\"\\n\")\n",
    "\n",
    "type_map={'a':0,'b':1,'c':2,'d':3,np.NAN:-1}\n",
    "df['encoded_user_type'] = df.user_type.map(type_map)\n",
    "print((df.head()))\n",
    "print(\"\\n\")"
   ]
  },
  {
   "cell_type": "code",
   "execution_count": 53,
   "id": "16db6d9c-d0b8-44f7-a094-a633793e6066",
   "metadata": {},
   "outputs": [
    {
     "data": {
      "text/html": [
       "<div>\n",
       "<style scoped>\n",
       "    .dataframe tbody tr th:only-of-type {\n",
       "        vertical-align: middle;\n",
       "    }\n",
       "\n",
       "    .dataframe tbody tr th {\n",
       "        vertical-align: top;\n",
       "    }\n",
       "\n",
       "    .dataframe thead th {\n",
       "        text-align: right;\n",
       "    }\n",
       "</style>\n",
       "<table border=\"1\" class=\"dataframe\">\n",
       "  <thead>\n",
       "    <tr style=\"text-align: right;\">\n",
       "      <th></th>\n",
       "      <th>serial_no</th>\n",
       "      <th>date</th>\n",
       "      <th>user_id</th>\n",
       "      <th>product_id</th>\n",
       "      <th>quantity_purchased</th>\n",
       "      <th>price</th>\n",
       "      <th>user_type</th>\n",
       "      <th>user_class</th>\n",
       "      <th>purchase_week</th>\n",
       "      <th>encoded_user_type</th>\n",
       "    </tr>\n",
       "  </thead>\n",
       "  <tbody>\n",
       "    <tr>\n",
       "      <th>995</th>\n",
       "      <td>1995</td>\n",
       "      <td>2016-02-07</td>\n",
       "      <td>5773</td>\n",
       "      <td>710</td>\n",
       "      <td>27</td>\n",
       "      <td>2020.02</td>\n",
       "      <td>b</td>\n",
       "      <td>new</td>\n",
       "      <td>5</td>\n",
       "      <td>1.0</td>\n",
       "    </tr>\n",
       "    <tr>\n",
       "      <th>996</th>\n",
       "      <td>1996</td>\n",
       "      <td>2016-01-15</td>\n",
       "      <td>5545</td>\n",
       "      <td>627</td>\n",
       "      <td>3</td>\n",
       "      <td>397.91</td>\n",
       "      <td>b</td>\n",
       "      <td>new</td>\n",
       "      <td>2</td>\n",
       "      <td>1.0</td>\n",
       "    </tr>\n",
       "    <tr>\n",
       "      <th>997</th>\n",
       "      <td>1997</td>\n",
       "      <td>2016-01-26</td>\n",
       "      <td>5345</td>\n",
       "      <td>451</td>\n",
       "      <td>38</td>\n",
       "      <td>4588.08</td>\n",
       "      <td>c</td>\n",
       "      <td>existing</td>\n",
       "      <td>4</td>\n",
       "      <td>2.0</td>\n",
       "    </tr>\n",
       "    <tr>\n",
       "      <th>998</th>\n",
       "      <td>1998</td>\n",
       "      <td>2016-01-17</td>\n",
       "      <td>5837</td>\n",
       "      <td>922</td>\n",
       "      <td>11</td>\n",
       "      <td>2203.14</td>\n",
       "      <td>b</td>\n",
       "      <td>new</td>\n",
       "      <td>2</td>\n",
       "      <td>1.0</td>\n",
       "    </tr>\n",
       "    <tr>\n",
       "      <th>999</th>\n",
       "      <td>1999</td>\n",
       "      <td>2016-02-06</td>\n",
       "      <td>5597</td>\n",
       "      <td>739</td>\n",
       "      <td>12</td>\n",
       "      <td>3366.29</td>\n",
       "      <td>d</td>\n",
       "      <td>loyal_existing</td>\n",
       "      <td>5</td>\n",
       "      <td>3.0</td>\n",
       "    </tr>\n",
       "  </tbody>\n",
       "</table>\n",
       "</div>"
      ],
      "text/plain": [
       "     serial_no       date  user_id  product_id  quantity_purchased    price  \\\n",
       "995       1995 2016-02-07     5773         710                  27  2020.02   \n",
       "996       1996 2016-01-15     5545         627                   3   397.91   \n",
       "997       1997 2016-01-26     5345         451                  38  4588.08   \n",
       "998       1998 2016-01-17     5837         922                  11  2203.14   \n",
       "999       1999 2016-02-06     5597         739                  12  3366.29   \n",
       "\n",
       "    user_type      user_class  purchase_week  encoded_user_type  \n",
       "995         b             new              5                1.0  \n",
       "996         b             new              2                1.0  \n",
       "997         c        existing              4                2.0  \n",
       "998         b             new              2                1.0  \n",
       "999         d  loyal_existing              5                3.0  "
      ]
     },
     "execution_count": 53,
     "metadata": {},
     "output_type": "execute_result"
    }
   ],
   "source": [
    "df.tail()"
   ]
  },
  {
   "cell_type": "markdown",
   "id": "1734f19b-8040-46de-a0dd-20dbc89dd3d7",
   "metadata": {},
   "source": [
    "### Normalizing values"
   ]
  },
  {
   "cell_type": "code",
   "execution_count": 57,
   "id": "ea36af00-1497-47e7-b132-de3027098da4",
   "metadata": {},
   "outputs": [
    {
     "name": "stdout",
     "output_type": "stream",
     "text": [
      "******************************\n",
      "Normalizing Numeric Data\n",
      "******************************\n",
      "Min-Max Scaler::\n",
      "    serial_no       date  user_id  product_id  quantity_purchased     price  \\\n",
      "16       1016 2016-01-19     5301         478                  27  0.125191   \n",
      "31       1031 2016-01-28     5900         402                  34  0.289612   \n",
      "35       1035 2016-01-09     5308         328                  35  0.291780   \n",
      "36       1036 2016-01-03     5408         627                   2  0.763459   \n",
      "37         -1 2016-02-10     5097         588                  16  0.168622   \n",
      "\n",
      "   user_type      user_class  purchase_week  encoded_user_type  \n",
      "16         d  loyal_existing              3                3.0  \n",
      "31         d  loyal_existing              4                3.0  \n",
      "35         b             new              1                1.0  \n",
      "36         d  loyal_existing             53                3.0  \n",
      "37         d  loyal_existing              6                3.0  \n",
      "\n",
      "\n"
     ]
    }
   ],
   "source": [
    "#Normalizing the values using the minmaxscaler function\n",
    "print(\"*\"*30)\n",
    "print(\"Normalizing Numeric Data\")\n",
    "print(\"*\"*30)\n",
    "\n",
    "print(\"Min-Max Scaler::\")\n",
    "df_normalized = df.dropna().copy()\n",
    "min_max_scaler = preprocessing.MinMaxScaler()\n",
    "np_scaled = min_max_scaler.fit_transform(df_normalized['price'].values.reshape(-1,1))\n",
    "df_normalized['price'] = np_scaled.reshape(-1,1)\n",
    "print(df_normalized.head())\n",
    "print(\"\\n\")"
   ]
  },
  {
   "cell_type": "markdown",
   "id": "a79a47cb-1cd2-4d05-a515-7511256c9d6a",
   "metadata": {},
   "source": [
    "### Data sumarization"
   ]
  },
  {
   "cell_type": "code",
   "execution_count": 58,
   "id": "5403b6fc-2233-4b22-ae18-bbb5aa99c91c",
   "metadata": {},
   "outputs": [
    {
     "name": "stdout",
     "output_type": "stream",
     "text": [
      "Aggregates based on condition::\n",
      "2200.4495454545454\n",
      "\n",
      "\n"
     ]
    }
   ],
   "source": [
    "print(\"Aggregates based on condition::\")\n",
    "print(df['price'][df['user_type']=='a'].mean())\n",
    "print(\"\\n\")"
   ]
  },
  {
   "cell_type": "code",
   "execution_count": 59,
   "id": "f34e9c87-a602-4bee-aa9a-e3e5dadb79aa",
   "metadata": {},
   "outputs": [
    {
     "name": "stdout",
     "output_type": "stream",
     "text": [
      "Row Counts on condition::\n",
      "purchase_week\n",
      "5     192\n",
      "3     161\n",
      "1     156\n",
      "2     154\n",
      "4     140\n",
      "6      94\n",
      "53     72\n",
      "0      31\n",
      "Name: count, dtype: int64\n",
      "\n",
      "\n"
     ]
    }
   ],
   "source": [
    "print(\"Row Counts on condition::\")\n",
    "print(df['purchase_week'].value_counts())\n",
    "print(\"\\n\")"
   ]
  },
  {
   "cell_type": "code",
   "execution_count": 60,
   "id": "89454b9c-e35a-4d87-b914-5a6dabd32f20",
   "metadata": {},
   "outputs": [
    {
     "name": "stdout",
     "output_type": "stream",
     "text": [
      "GroupBy attributes::\n",
      "user_class\n",
      "error               636\n",
      "existing           5086\n",
      "loyal_existing     5089\n",
      "new               10488\n",
      "Name: quantity_purchased, dtype: int64\n",
      "\n",
      "\n"
     ]
    }
   ],
   "source": [
    "print(\"GroupBy attributes::\")\n",
    "print(df.groupby(['user_class'])['quantity_purchased'].sum())\n",
    "print(\"\\n\")"
   ]
  },
  {
   "cell_type": "code",
   "execution_count": 61,
   "id": "b09ba2bc-c18f-45c7-b1b1-2ac702631fda",
   "metadata": {},
   "outputs": [
    {
     "name": "stdout",
     "output_type": "stream",
     "text": [
      "GroupBy with different aggregates::\n",
      "                  sum       mean  count_nonzero\n",
      "user_class                                     \n",
      "error             636  21.200000             30\n",
      "existing         5086  20.930041            243\n",
      "loyal_existing   5089  21.935345            232\n",
      "new             10488  21.187879            495\n",
      "\n",
      "\n"
     ]
    },
    {
     "name": "stderr",
     "output_type": "stream",
     "text": [
      "/var/folders/p9/kd2njf997_7bs4hbnrvzl6yc0000gp/T/ipykernel_17337/444298419.py:2: FutureWarning: The provided callable <function sum at 0x10ada0ea0> is currently using SeriesGroupBy.sum. In a future version of pandas, the provided callable will be used directly. To keep current behavior pass the string \"sum\" instead.\n",
      "  print(df.groupby(['user_class'])['quantity_purchased'].agg([np.sum,\n",
      "/var/folders/p9/kd2njf997_7bs4hbnrvzl6yc0000gp/T/ipykernel_17337/444298419.py:2: FutureWarning: The provided callable <function mean at 0x10ada1f80> is currently using SeriesGroupBy.mean. In a future version of pandas, the provided callable will be used directly. To keep current behavior pass the string \"mean\" instead.\n",
      "  print(df.groupby(['user_class'])['quantity_purchased'].agg([np.sum,\n"
     ]
    }
   ],
   "source": [
    "print(\"GroupBy with different aggregates::\")\n",
    "print(df.groupby(['user_class'])['quantity_purchased'].agg([np.sum,\n",
    "                                                            np.mean,\n",
    "                                                            np.count_nonzero]))\n",
    "print(\"\\n\")  "
   ]
  },
  {
   "cell_type": "code",
   "execution_count": 63,
   "id": "4e070159-6067-4b81-b885-484d3ffd0b25",
   "metadata": {},
   "outputs": [
    {
     "name": "stdout",
     "output_type": "stream",
     "text": [
      "GroupBy with specific agg for each attribute::\n",
      "                                price  quantity_purchased\n",
      "user_class     user_type                                 \n",
      "error          n          2423.013448                  41\n",
      "existing       c          2526.547149                  41\n",
      "loyal_existing d          2479.323921                  41\n",
      "new            a          2200.449545                  41\n",
      "               b          2338.745692                  41\n",
      "\n",
      "\n"
     ]
    },
    {
     "name": "stderr",
     "output_type": "stream",
     "text": [
      "/var/folders/p9/kd2njf997_7bs4hbnrvzl6yc0000gp/T/ipykernel_17337/2760949512.py:2: FutureWarning: The provided callable <function mean at 0x10ada1f80> is currently using SeriesGroupBy.mean. In a future version of pandas, the provided callable will be used directly. To keep current behavior pass the string \"mean\" instead.\n",
      "  print(df.groupby(['user_class','user_type']).agg({'price':np.mean,\n",
      "/var/folders/p9/kd2njf997_7bs4hbnrvzl6yc0000gp/T/ipykernel_17337/2760949512.py:2: FutureWarning: The provided callable <function max at 0x10ada1580> is currently using SeriesGroupBy.max. In a future version of pandas, the provided callable will be used directly. To keep current behavior pass the string \"max\" instead.\n",
      "  print(df.groupby(['user_class','user_type']).agg({'price':np.mean,\n"
     ]
    }
   ],
   "source": [
    "print(\"GroupBy with specific agg for each attribute::\")\n",
    "print(df.groupby(['user_class','user_type']).agg({'price':np.mean,\n",
    "                                                    'quantity_purchased':np.max}))\n",
    "print(\"\\n\")"
   ]
  },
  {
   "cell_type": "code",
   "execution_count": 66,
   "id": "655826be-0989-4df4-b14b-02c31dbc7900",
   "metadata": {},
   "outputs": [
    {
     "name": "stdout",
     "output_type": "stream",
     "text": [
      "Pivot tables::\n",
      "user_type             a            b            c            d            n\n",
      "date                                                                       \n",
      "2016-01-01  1486.523333  2632.640000  1593.625000  3457.932500          NaN\n",
      "2016-01-02  2588.358000  1613.865714  2999.466364  3661.312500          NaN\n",
      "2016-01-03  2294.368571  1854.276364  3360.590000  3465.101429   837.540000\n",
      "2016-01-04  2255.388571  2652.676250  2684.996667  1534.075714          NaN\n",
      "2016-01-05  1966.822857  1092.540000  3303.923333  1514.975000  2103.840000\n",
      "2016-01-06  1817.531429  2989.940000  3117.361667  2204.515714          NaN\n",
      "2016-01-07  2479.020000  1897.362222  1901.205000  2541.292000          NaN\n",
      "2016-01-08  2895.760000  2309.982222  2258.340000  2117.576000  2457.016667\n",
      "2016-01-09  2599.073333  2527.785000  3301.696667  2794.904000  1360.070000\n",
      "2016-01-10  1902.797500  3150.995000  3677.375000  2954.040000   384.210000\n",
      "2016-01-11  3074.250000  1828.173333  2902.305455  3300.478000  3282.400000\n",
      "2016-01-12  2432.925000  1393.071429  3596.093333  2185.808000          NaN\n",
      "2016-01-13  2593.546667  1881.610000  2727.456250  1876.875000          NaN\n",
      "2016-01-14  1226.743333  4615.262000  1694.300000  3874.593333          NaN\n",
      "2016-01-15  3018.890000  2116.927500  2450.115000  2221.464000          NaN\n",
      "2016-01-16  2714.002500  2075.386667  2187.662857  3064.872000          NaN\n",
      "2016-01-17  1252.682500  1818.255000  1946.701667  2362.907500  1511.320000\n",
      "2016-01-18  2296.097143  1848.578571  1325.614000  2804.190000          NaN\n",
      "2016-01-19  2360.646667  2766.575714  2462.667500  2125.226250          NaN\n",
      "2016-01-20  2582.992857  1779.322500  2045.957500  2541.135000  3254.845000\n",
      "2016-01-21  2385.400000  3377.381429  1777.977500  1427.961667          NaN\n",
      "2016-01-22  1514.215000  1483.495000  2563.085556  5199.662500          NaN\n",
      "2016-01-23  2080.060000  3165.784444  5662.570000  4303.570000  3142.050000\n",
      "2016-01-24  1295.093333  2450.480000  2573.728000  2916.843750          NaN\n",
      "2016-01-25  1478.175000  2564.838571  2653.430000  1754.197500          NaN\n",
      "2016-01-26  2082.492857  2011.174286  5247.486667  1263.300000  1100.680000\n",
      "2016-01-27  1790.848000   740.340000  2426.023750  2171.991429          NaN\n",
      "2016-01-28  2317.173333  1006.281667  2579.180000  1954.224000          NaN\n",
      "2016-01-29  1417.306250  1429.450000  1809.306667  3632.280000  4577.710000\n",
      "2016-01-30  2525.355000  2336.270000  2372.266000  2295.470000          NaN\n",
      "2016-01-31  2819.507500  2322.358571  2354.780000  2290.792500          NaN\n",
      "2016-02-01  1761.431250  3300.986000  2884.528571  1189.210000          NaN\n",
      "2016-02-02  1661.766000  2434.723750  2430.161429  1257.820000          NaN\n",
      "2016-02-03  3773.026000  2666.828000  2636.642500  2195.466667          NaN\n",
      "2016-02-04  3103.825000  2258.173750  1434.150000   686.782500  2346.450000\n",
      "2016-02-05  2103.460000  1463.728889  1833.333333  3361.241429          NaN\n",
      "2016-02-06  1108.818000  2724.772500  1154.138750  2747.088889          NaN\n",
      "2016-02-07  3163.610000  2624.595000  3455.939000  2810.764286          NaN\n",
      "2016-02-08  2200.404000  2941.498000  2555.816000  2054.942500          NaN\n",
      "2016-02-09  2962.228000  2555.218000  2570.516667  2625.707143          NaN\n",
      "2016-02-10  2009.202500  4069.540000  3404.074000  1893.968571          NaN\n",
      "2016-02-11  1563.050000  1998.912500  2575.508333  2611.772500  1588.710000\n",
      "\n",
      "\n",
      "Stacking::\n",
      "0    serial_no                       1000\n",
      "     user_id                         -101\n",
      "     product_id                         0\n",
      "     quantity_purchased                 6\n",
      "     user_type                          n\n",
      "                                ...      \n",
      "999  price                        3366.29\n",
      "     user_type                          d\n",
      "     user_class            loyal_existing\n",
      "     purchase_week                      5\n",
      "     encoded_user_type                3.0\n",
      "Length: 9910, dtype: object\n",
      "\n",
      "\n"
     ]
    },
    {
     "name": "stderr",
     "output_type": "stream",
     "text": [
      "/var/folders/p9/kd2njf997_7bs4hbnrvzl6yc0000gp/T/ipykernel_17337/3524224748.py:2: FutureWarning: The provided callable <function mean at 0x10ada1f80> is currently using DataFrameGroupBy.mean. In a future version of pandas, the provided callable will be used directly. To keep current behavior pass the string \"mean\" instead.\n",
      "  print(df.pivot_table(index='date', columns='user_type',\n"
     ]
    }
   ],
   "source": [
    "print(\"Pivot tables::\")\n",
    "print(df.pivot_table(index='date', columns='user_type', \n",
    "                     values='price',aggfunc=np.mean))\n",
    "print(\"\\n\")      \n",
    "\n",
    "print(\"Stacking::\")\n",
    "print(df.stack())\n",
    "print(\"\\n\")   "
   ]
  }
 ],
 "metadata": {
  "kernelspec": {
   "display_name": "Python 3 (ipykernel)",
   "language": "python",
   "name": "python3"
  },
  "language_info": {
   "codemirror_mode": {
    "name": "ipython",
    "version": 3
   },
   "file_extension": ".py",
   "mimetype": "text/x-python",
   "name": "python",
   "nbconvert_exporter": "python",
   "pygments_lexer": "ipython3",
   "version": "3.11.5"
  }
 },
 "nbformat": 4,
 "nbformat_minor": 5
}
