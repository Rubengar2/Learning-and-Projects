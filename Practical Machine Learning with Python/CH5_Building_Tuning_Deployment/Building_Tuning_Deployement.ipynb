{
 "cells": [
  {
   "cell_type": "markdown",
   "metadata": {},
   "source": [
    "# CHAPTER 5: BUILDING, TUNING, AND DEPLOYMENT OF A ML MODEL\n",
    "## Model Development Lifecycle\n",
    "In this chapter, we embark on a comprehensive journey through the intricacies of building, tuning, and deploying machine learning (ML) models. The process of bringing a model from conception to deployment involves a series of crucial steps, each demanding careful consideration and expertise.\n",
    "\n",
    "From the initial data preprocessing to model selection, hyperparameter tuning, and deployment strategies, this chapter covers it all. We'll delve into practical techniques, best practices, and tools necessary to navigate the complexities of the ML model development lifecycle effectively.\n",
    "\n",
    "#### *By Jose Ruben Garcia Garcia*\n",
    "#### *March 2024*\n",
    "*Reference: Practical Machine Learning Python Problems Solver*\n"
   ]
  },
  {
   "cell_type": "markdown",
   "metadata": {},
   "source": [
    "###  Classification"
   ]
  },
  {
   "cell_type": "markdown",
   "metadata": {},
   "source": [
    "For this classificaction example, i'll use a multi-class classification problem for a handwritten digit recognition. The problem here is to predict the actual digit value from a handwritten image of a digit. For the dataset we have 1x64 feature vector wich represent the image representation of a grey scale image of the digit. "
   ]
  },
  {
   "cell_type": "code",
   "execution_count": 3,
   "metadata": {},
   "outputs": [
    {
     "data": {
      "text/plain": [
       "<matplotlib.image.AxesImage at 0x135f380d0>"
      ]
     },
     "execution_count": 3,
     "metadata": {},
     "output_type": "execute_result"
    },
    {
     "data": {
      "image/png": "[encoded data removed]",
      "text/plain": [
       "<Figure size 300x300 with 1 Axes>"
      ]
     },
     "metadata": {},
     "output_type": "display_data"
    }
   ],
   "source": [
    "#Importing proper libraries and data\n",
    "\n",
    "from sklearn import datasets\n",
    "import matplotlib.pyplot as plt\n",
    "%matplotlib inline\n",
    "\n",
    "digits = datasets.load_digits()\n",
    "\n",
    "#Plotting the 11th image from the dataset \n",
    "plt.figure(figsize=(3,3))\n",
    "plt.imshow(digits.images[10], cmap=plt.cm.gray_r)"
   ]
  },
  {
   "cell_type": "code",
   "execution_count": 4,
   "metadata": {},
   "outputs": [
    {
     "data": {
      "text/plain": [
       "array([[ 0.,  0.,  5., 13.,  9.,  1.,  0.,  0.],\n",
       "       [ 0.,  0., 13., 15., 10., 15.,  5.,  0.],\n",
       "       [ 0.,  3., 15.,  2.,  0., 11.,  8.,  0.],\n",
       "       [ 0.,  4., 12.,  0.,  0.,  8.,  8.,  0.],\n",
       "       [ 0.,  5.,  8.,  0.,  0.,  9.,  8.,  0.],\n",
       "       [ 0.,  4., 11.,  0.,  1., 12.,  7.,  0.],\n",
       "       [ 0.,  2., 14.,  5., 10., 12.,  0.,  0.],\n",
       "       [ 0.,  0.,  6., 13., 10.,  0.,  0.,  0.]])"
      ]
     },
     "execution_count": 4,
     "metadata": {},
     "output_type": "execute_result"
    }
   ],
   "source": [
    "#How the raw pixel data looks in a vector representation\n",
    "\n",
    "#actual image pixel matrix\n",
    "digits.images[0]"
   ]
  },
  {
   "cell_type": "code",
   "execution_count": 5,
   "metadata": {},
   "outputs": [
    {
     "data": {
      "text/plain": [
       "array([ 0.,  0.,  1.,  9., 15., 11.,  0.,  0.,  0.,  0., 11., 16.,  8.,\n",
       "       14.,  6.,  0.,  0.,  2., 16., 10.,  0.,  9.,  9.,  0.,  0.,  1.,\n",
       "       16.,  4.,  0.,  8.,  8.,  0.,  0.,  4., 16.,  4.,  0.,  8.,  8.,\n",
       "        0.,  0.,  1., 16.,  5.,  1., 11.,  3.,  0.,  0.,  0., 12., 12.,\n",
       "       10., 10.,  0.,  0.,  0.,  0.,  1., 10., 13.,  3.,  0.,  0.])"
      ]
     },
     "execution_count": 5,
     "metadata": {},
     "output_type": "execute_result"
    }
   ],
   "source": [
    "#Flattened vector\n",
    "digits.data[10]"
   ]
  },
  {
   "cell_type": "code",
   "execution_count": 6,
   "metadata": {},
   "outputs": [
    {
     "data": {
      "text/plain": [
       "0"
      ]
     },
     "execution_count": 6,
     "metadata": {},
     "output_type": "execute_result"
    }
   ],
   "source": [
    "#showing the image class label which will tell us what it's the correct representation of the digit, for our 11th label it will be a 0\n",
    "digits.target[0]"
   ]
  },
  {
   "cell_type": "markdown",
   "metadata": {},
   "source": [
    "For this approach I'm going to use a Logistic regression model to perform the task of classify each item "
   ]
  },
  {
   "cell_type": "code",
   "execution_count": 7,
   "metadata": {},
   "outputs": [
    {
     "name": "stdout",
     "output_type": "stream",
     "text": [
      "(1257, 64) (540, 64)\n"
     ]
    }
   ],
   "source": [
    "X_digits = digits.data\n",
    "y_digits = digits.target\n",
    "\n",
    "num_data_points = len(X_digits)\n",
    "\n",
    "X_train = X_digits[:int(.7*num_data_points)]\n",
    "y_train = y_digits[:int(.7*num_data_points)]\n",
    "X_test = X_digits[int(.7*num_data_points):]\n",
    "y_test = y_digits[int(.7*num_data_points):]\n",
    "\n",
    "print(X_train.shape, X_test.shape)"
   ]
  },
  {
   "cell_type": "markdown",
   "metadata": {},
   "source": [
    "After the last output we can see that for the train dataset I have 1257 data points meanwhile for the test dataset I have 540 data points, Now I'll specify the model and it hyperparameters"
   ]
  },
  {
   "cell_type": "code",
   "execution_count": 8,
   "metadata": {},
   "outputs": [
    {
     "name": "stderr",
     "output_type": "stream",
     "text": [
      "/usr/local/lib/python3.11/site-packages/sklearn/linear_model/_logistic.py:460: ConvergenceWarning: lbfgs failed to converge (status=1):\n",
      "STOP: TOTAL NO. of ITERATIONS REACHED LIMIT.\n",
      "\n",
      "Increase the number of iterations (max_iter) or scale the data as shown in:\n",
      "    https://scikit-learn.org/stable/modules/preprocessing.html\n",
      "Please also refer to the documentation for alternative solver options:\n",
      "    https://scikit-learn.org/stable/modules/linear_model.html#logistic-regression\n",
      "  n_iter_i = _check_optimize_result(\n"
     ]
    },
    {
     "data": {
      "text/html": [
       "<style>#sk-container-id-1 {color: black;}#sk-container-id-1 pre{padding: 0;}#sk-container-id-1 div.sk-toggleable {background-color: white;}#sk-container-id-1 label.sk-toggleable__label {cursor: pointer;display: block;width: 100%;margin-bottom: 0;padding: 0.3em;box-sizing: border-box;text-align: center;}#sk-container-id-1 label.sk-toggleable__label-arrow:before {content: \"▸\";float: left;margin-right: 0.25em;color: #696969;}#sk-container-id-1 label.sk-toggleable__label-arrow:hover:before {color: black;}#sk-container-id-1 div.sk-estimator:hover label.sk-toggleable__label-arrow:before {color: black;}#sk-container-id-1 div.sk-toggleable__content {max-height: 0;max-width: 0;overflow: hidden;text-align: left;background-color: #f0f8ff;}#sk-container-id-1 div.sk-toggleable__content pre {margin: 0.2em;color: black;border-radius: 0.25em;background-color: #f0f8ff;}#sk-container-id-1 input.sk-toggleable__control:checked~div.sk-toggleable__content {max-height: 200px;max-width: 100%;overflow: auto;}#sk-container-id-1 input.sk-toggleable__control:checked~label.sk-toggleable__label-arrow:before {content: \"▾\";}#sk-container-id-1 div.sk-estimator input.sk-toggleable__control:checked~label.sk-toggleable__label {background-color: #d4ebff;}#sk-container-id-1 div.sk-label input.sk-toggleable__control:checked~label.sk-toggleable__label {background-color: #d4ebff;}#sk-container-id-1 input.sk-hidden--visually {border: 0;clip: rect(1px 1px 1px 1px);clip: rect(1px, 1px, 1px, 1px);height: 1px;margin: -1px;overflow: hidden;padding: 0;position: absolute;width: 1px;}#sk-container-id-1 div.sk-estimator {font-family: monospace;background-color: #f0f8ff;border: 1px dotted black;border-radius: 0.25em;box-sizing: border-box;margin-bottom: 0.5em;}#sk-container-id-1 div.sk-estimator:hover {background-color: #d4ebff;}#sk-container-id-1 div.sk-parallel-item::after {content: \"\";width: 100%;border-bottom: 1px solid gray;flex-grow: 1;}#sk-container-id-1 div.sk-label:hover label.sk-toggleable__label {background-color: #d4ebff;}#sk-container-id-1 div.sk-serial::before {content: \"\";position: absolute;border-left: 1px solid gray;box-sizing: border-box;top: 0;bottom: 0;left: 50%;z-index: 0;}#sk-container-id-1 div.sk-serial {display: flex;flex-direction: column;align-items: center;background-color: white;padding-right: 0.2em;padding-left: 0.2em;position: relative;}#sk-container-id-1 div.sk-item {position: relative;z-index: 1;}#sk-container-id-1 div.sk-parallel {display: flex;align-items: stretch;justify-content: center;background-color: white;position: relative;}#sk-container-id-1 div.sk-item::before, #sk-container-id-1 div.sk-parallel-item::before {content: \"\";position: absolute;border-left: 1px solid gray;box-sizing: border-box;top: 0;bottom: 0;left: 50%;z-index: -1;}#sk-container-id-1 div.sk-parallel-item {display: flex;flex-direction: column;z-index: 1;position: relative;background-color: white;}#sk-container-id-1 div.sk-parallel-item:first-child::after {align-self: flex-end;width: 50%;}#sk-container-id-1 div.sk-parallel-item:last-child::after {align-self: flex-start;width: 50%;}#sk-container-id-1 div.sk-parallel-item:only-child::after {width: 0;}#sk-container-id-1 div.sk-dashed-wrapped {border: 1px dashed gray;margin: 0 0.4em 0.5em 0.4em;box-sizing: border-box;padding-bottom: 0.4em;background-color: white;}#sk-container-id-1 div.sk-label label {font-family: monospace;font-weight: bold;display: inline-block;line-height: 1.2em;}#sk-container-id-1 div.sk-label-container {text-align: center;}#sk-container-id-1 div.sk-container {/* jupyter's `normalize.less` sets `[hidden] { display: none; }` but bootstrap.min.css set `[hidden] { display: none !important; }` so we also need the `!important` here to be able to override the default hidden behavior on the sphinx rendered scikit-learn.org. See: https://github.com/scikit-learn/scikit-learn/issues/21755 */display: inline-block !important;position: relative;}#sk-container-id-1 div.sk-text-repr-fallback {display: none;}</style><div id=\"sk-container-id-1\" class=\"sk-top-container\"><div class=\"sk-text-repr-fallback\"><pre>LogisticRegression()</pre><b>In a Jupyter environment, please rerun this cell to show the HTML representation or trust the notebook. <br />On GitHub, the HTML representation is unable to render, please try loading this page with nbviewer.org.</b></div><div class=\"sk-container\" hidden><div class=\"sk-item\"><div class=\"sk-estimator sk-toggleable\"><input class=\"sk-toggleable__control sk-hidden--visually\" id=\"sk-estimator-id-1\" type=\"checkbox\" checked><label for=\"sk-estimator-id-1\" class=\"sk-toggleable__label sk-toggleable__label-arrow\">LogisticRegression</label><div class=\"sk-toggleable__content\"><pre>LogisticRegression()</pre></div></div></div></div></div>"
      ],
      "text/plain": [
       "LogisticRegression()"
      ]
     },
     "execution_count": 8,
     "metadata": {},
     "output_type": "execute_result"
    }
   ],
   "source": [
    "from sklearn import linear_model \n",
    "\n",
    "logistic = linear_model.LogisticRegression()\n",
    "logistic.fit(X_train, y_train)"
   ]
  },
  {
   "cell_type": "code",
   "execution_count": 9,
   "metadata": {},
   "outputs": [
    {
     "name": "stdout",
     "output_type": "stream",
     "text": [
      "Logistic Regression mean accuracy: 0.912963\n"
     ]
    }
   ],
   "source": [
    "#Testing the model with a simple accuracy metric test on the test dataset\n",
    "print('Logistic Regression mean accuracy: %f' % logistic.score(X_test, y_test))"
   ]
  },
  {
   "cell_type": "markdown",
   "metadata": {},
   "source": [
    "The last output shown us that the accuracy for this simple model of classification is 91.3% What it's a good approach but this is a case with labeled data and not pre-processing step that in a really real world case most of the times had to be performed"
   ]
  },
  {
   "cell_type": "markdown",
   "metadata": {},
   "source": [
    "### Clustering"
   ]
  },
  {
   "cell_type": "markdown",
   "metadata": {},
   "source": [
    "For this example a labeled dataset will be used in order to cover the clustering methods and compare the results with the real data. I already know that labeled data is really hard to get in the real data world but for this example I'll select the Wisconsin Diagnostic Breast Cancer data set that has 30 features with a response feature saying if the pacient had or no a malignant (0) cancer. "
   ]
  },
  {
   "cell_type": "code",
   "execution_count": 10,
   "metadata": {},
   "outputs": [],
   "source": [
    "import numpy as np\n",
    "from sklearn.datasets import load_breast_cancer"
   ]
  },
  {
   "cell_type": "code",
   "execution_count": 11,
   "metadata": {},
   "outputs": [
    {
     "name": "stdout",
     "output_type": "stream",
     "text": [
      "(569, 30) ['mean radius' 'mean texture' 'mean perimeter' 'mean area'\n",
      " 'mean smoothness' 'mean compactness' 'mean concavity'\n",
      " 'mean concave points' 'mean symmetry' 'mean fractal dimension'\n",
      " 'radius error' 'texture error' 'perimeter error' 'area error'\n",
      " 'smoothness error' 'compactness error' 'concavity error'\n",
      " 'concave points error' 'symmetry error' 'fractal dimension error'\n",
      " 'worst radius' 'worst texture' 'worst perimeter' 'worst area'\n",
      " 'worst smoothness' 'worst compactness' 'worst concavity'\n",
      " 'worst concave points' 'worst symmetry' 'worst fractal dimension']\n"
     ]
    }
   ],
   "source": [
    "#Loading data\n",
    "data = load_breast_cancer()\n",
    "X = data.data\n",
    "y = data.target\n",
    "\n",
    "print(X.shape, data.feature_names)"
   ]
  },
  {
   "cell_type": "markdown",
   "metadata": {},
   "source": [
    "To perform the clustering method I used the k-means algorithm that is based in a centroid based clustering algorithm, starting with some assumptions about the total cluster that we desired in random centers assigned to each of the clusters"
   ]
  },
  {
   "cell_type": "code",
   "execution_count": 12,
   "metadata": {},
   "outputs": [
    {
     "name": "stdout",
     "output_type": "stream",
     "text": [
      "[1 1 1 0 1 0 1 0 0 0]\n"
     ]
    },
    {
     "name": "stderr",
     "output_type": "stream",
     "text": [
      "/usr/local/lib/python3.11/site-packages/sklearn/cluster/_kmeans.py:1416: FutureWarning: The default value of `n_init` will change from 10 to 'auto' in 1.4. Set the value of `n_init` explicitly to suppress the warning\n",
      "  super()._check_params_vs_input(X, default_n_init=10)\n"
     ]
    }
   ],
   "source": [
    "from sklearn.cluster import KMeans\n",
    "\n",
    "#Creating instance and we defined the n_clusters as 2 since I have only 2 observations that I want to know (it's the tumor malignant? (0)) \n",
    "km = KMeans(n_clusters=2)\n",
    "km.fit(X)\n",
    "\n",
    "\n",
    "#Getting centers and labels for both clusters \n",
    "labels = km.labels_\n",
    "centers = km.cluster_centers_\n",
    "print(labels[:10])"
   ]
  },
  {
   "cell_type": "markdown",
   "metadata": {},
   "source": [
    "Since we have 30 features, It's a good idea to reduce the the number of features in order to have the most relevants columns of the dataset. For this I used the PCA technique to reduce the dimensional space."
   ]
  },
  {
   "cell_type": "code",
   "execution_count": 13,
   "metadata": {},
   "outputs": [],
   "source": [
    "from sklearn.decomposition import PCA \n",
    "\n",
    "pca = PCA(n_components=2)\n",
    "bc_pca = pca.fit_transform(X)"
   ]
  },
  {
   "cell_type": "code",
   "execution_count": 14,
   "metadata": {},
   "outputs": [
    {
     "data": {
      "image/png": "[encoded data removed]",
      "text/plain": [
       "<Figure size 800x400 with 2 Axes>"
      ]
     },
     "metadata": {},
     "output_type": "display_data"
    }
   ],
   "source": [
    "fig, (ax1, ax2) = plt.subplots(1, 2, figsize=(8, 4))\n",
    "fig.suptitle('Visualizing breast cancer clusters')\n",
    "fig.subplots_adjust(top=0.85, wspace=0.5)\n",
    "ax1.set_title('Actual Labels')\n",
    "ax2.set_title('Clustered Labels')\n",
    "\n",
    "for i in range(len(y)):\n",
    "    if y[i] == 0:\n",
    "        c1 = ax1.scatter(bc_pca[i,0], bc_pca[i,1],c='g', marker='.')\n",
    "    if y[i] == 1:\n",
    "        c2 = ax1.scatter(bc_pca[i,0], bc_pca[i,1],c='r', marker='.')\n",
    "        \n",
    "    if labels[i] == 0:\n",
    "        c3 = ax2.scatter(bc_pca[i,0], bc_pca[i,1],c='r', marker='.')\n",
    "    if labels[i] == 1:\n",
    "        c4 = ax2.scatter(bc_pca[i,0], bc_pca[i,1],c='g', marker='.')\n",
    "\n",
    "l1 = ax1.legend([c1, c2], ['0', '1'])\n",
    "l2 = ax2.legend([c3, c4], ['1', '0'])"
   ]
  },
  {
   "cell_type": "markdown",
   "metadata": {},
   "source": [
    "The chart help us to identify the the difference between the labeled y_response in the dataset with the real points (Left) and the cluster created by the algorithm (right), For me it's clear to see that algorithm worked fine since the difference between the points of both charts and it's clustering looks similar. Even with this is easy to say that the clusters are not perfect as we see some difference specifically in the points where the labels are divided, this is good to understand that real data world most of the times is not labeled and we need a really good knowledge in the business case in order to interpret a result and finally take a decision. "
   ]
  },
  {
   "cell_type": "markdown",
   "metadata": {},
   "source": [
    "### Hierarchical clustering"
   ]
  },
  {
   "cell_type": "markdown",
   "metadata": {},
   "source": [
    "For this new approach I used the hierarchical clustering to compare results between the past k-means algorithm, So i used the same dataset and same business case. The method used comes from the scikit-learn module and It's called Agglormarativeclustering that uses a bottom up approach what means that each observation starts its own cluster and then the clusters are successively merged together. "
   ]
  },
  {
   "cell_type": "code",
   "execution_count": 15,
   "metadata": {},
   "outputs": [
    {
     "name": "stdout",
     "output_type": "stream",
     "text": [
      "[[  287.           336.             3.81596727     2.        ]\n",
      " [  106.           420.             4.11664267     2.        ]\n",
      " [   55.           251.             4.93361024     2.        ]\n",
      " ...\n",
      " [ 1130.          1132.          6196.07482529    86.        ]\n",
      " [ 1131.          1133.          8368.99225244   483.        ]\n",
      " [ 1134.          1135.         18371.10293626   569.        ]]\n"
     ]
    }
   ],
   "source": [
    "from scipy.cluster.hierarchy import dendrogram, linkage\n",
    "import numpy as np\n",
    "np.set_printoptions(suppress=True)\n",
    "\n",
    "#Showing the linkage matrix using the minimim variance criterion\n",
    "Z = linkage(X, 'ward')\n",
    "print(Z)"
   ]
  },
  {
   "cell_type": "code",
   "execution_count": 16,
   "metadata": {},
   "outputs": [
    {
     "data": {
      "image/png": "[encoded data removed]",
      "text/plain": [
       "<Figure size 800x300 with 1 Axes>"
      ]
     },
     "metadata": {},
     "output_type": "display_data"
    }
   ],
   "source": [
    "plt.figure(figsize=(8, 3))\n",
    "plt.title('Hierarchical Clustering Dendrogram')\n",
    "plt.xlabel('Data point')\n",
    "plt.ylabel('Distance')\n",
    "dendrogram(Z)\n",
    "plt.axhline(y=10000, c='k', ls='--', lw=0.5)\n",
    "plt.show()"
   ]
  },
  {
   "cell_type": "markdown",
   "metadata": {},
   "source": [
    "To see the distance-based merged the best way to do is using a dendrogram where we can see how each data point starts as an individual cluster and slowly starts to getting merged with other datapoint to form clusters"
   ]
  },
  {
   "cell_type": "code",
   "execution_count": 17,
   "metadata": {},
   "outputs": [],
   "source": [
    "from scipy.cluster.hierarchy import fcluster\n",
    "\n",
    "max_dist = 10000\n",
    "hc_labels = fcluster(Z, max_dist, criterion='distance')"
   ]
  },
  {
   "cell_type": "markdown",
   "metadata": {},
   "source": [
    "Now let's compare the original labels and the output from this method with the PCA approach applied in the past method "
   ]
  },
  {
   "cell_type": "code",
   "execution_count": 18,
   "metadata": {},
   "outputs": [
    {
     "data": {
      "image/png": "[encoded data removed]",
      "text/plain": [
       "<Figure size 800x400 with 2 Axes>"
      ]
     },
     "metadata": {},
     "output_type": "display_data"
    }
   ],
   "source": [
    "fig, (ax1, ax2) = plt.subplots(1, 2, figsize=(8, 4))\n",
    "fig.suptitle('Visualizing breast cancer clusters')\n",
    "fig.subplots_adjust(top=0.85, wspace=0.5)\n",
    "ax1.set_title('Actual Labels')\n",
    "ax2.set_title('Hierarchical Clustered Labels')\n",
    "\n",
    "for i in range(len(y)):\n",
    "    if y[i] == 0:\n",
    "        c1 = ax1.scatter(bc_pca[i,0], bc_pca[i,1],c='g', marker='.')\n",
    "    if y[i] == 1:\n",
    "        c2 = ax1.scatter(bc_pca[i,0], bc_pca[i,1],c='r', marker='.')\n",
    "        \n",
    "    if hc_labels[i] == 1:\n",
    "        c3 = ax2.scatter(bc_pca[i,0], bc_pca[i,1],c='g', marker='.')\n",
    "    if hc_labels[i] == 2:\n",
    "        c4 = ax2.scatter(bc_pca[i,0], bc_pca[i,1],c='r', marker='.')\n",
    "\n",
    "l1 = ax1.legend([c1, c2], ['0', '1'])\n",
    "l2 = ax2.legend([c3, c4], ['1', '2'])"
   ]
  },
  {
   "cell_type": "markdown",
   "metadata": {},
   "source": [
    "\n",
    "For this algorithm we see 2 distinct clusters but there is more overlap as compared with the K-means method, moreover the 2 clusters have more mislabeled instances. The main advantage of this method is that we don't need to input the number of clusters beforehand. "
   ]
  },
  {
   "cell_type": "markdown",
   "metadata": {},
   "source": [
    "### Evaluation Metrics"
   ]
  },
  {
   "cell_type": "markdown",
   "metadata": {},
   "source": [
    "Once we have created our model we can say that all it's ok but actually we are missing one of the must important things in a process of ML that it's *evaluation*. \n",
    "\n",
    "Model evaluation is the defining part of the iterative process which makes it iterative in nature, in addition Model evaluation help us to understand and try to change the parameters of the model process the it's commonly called model tuning. \n",
    "\n",
    "The ideal way to perform this step is to have some numerical metrics and measure the model effectiveness. So for this examples i'm going to use the same dataset of breast cancer in order to evaluate our models. "
   ]
  },
  {
   "cell_type": "markdown",
   "metadata": {},
   "source": [
    "#### Evaluating classification models "
   ]
  },
  {
   "cell_type": "code",
   "execution_count": 19,
   "metadata": {},
   "outputs": [
    {
     "name": "stdout",
     "output_type": "stream",
     "text": [
      "(398, 30) (171, 30)\n"
     ]
    }
   ],
   "source": [
    "from sklearn.model_selection import train_test_split\n",
    "\n",
    "#Splitting our dataset into test and training subsets using the rule 70-30\n",
    "X_train, X_test, y_train, y_test = train_test_split(X, y, test_size=0.3, random_state=42)\n",
    "print(X_train.shape, X_test.shape)"
   ]
  },
  {
   "cell_type": "markdown",
   "metadata": {},
   "source": [
    "#### Confusion Matrix\n",
    "\n",
    "This is not exactly a metric but the method is commonly used to comparing the predicted class labels with the datapoints of the actual class labels. "
   ]
  },
  {
   "cell_type": "code",
   "execution_count": 20,
   "metadata": {},
   "outputs": [
    {
     "name": "stderr",
     "output_type": "stream",
     "text": [
      "/usr/local/lib/python3.11/site-packages/sklearn/linear_model/_logistic.py:460: ConvergenceWarning: lbfgs failed to converge (status=1):\n",
      "STOP: TOTAL NO. of ITERATIONS REACHED LIMIT.\n",
      "\n",
      "Increase the number of iterations (max_iter) or scale the data as shown in:\n",
      "    https://scikit-learn.org/stable/modules/preprocessing.html\n",
      "Please also refer to the documentation for alternative solver options:\n",
      "    https://scikit-learn.org/stable/modules/linear_model.html#logistic-regression\n",
      "  n_iter_i = _check_optimize_result(\n"
     ]
    },
    {
     "data": {
      "text/html": [
       "<style>#sk-container-id-2 {color: black;}#sk-container-id-2 pre{padding: 0;}#sk-container-id-2 div.sk-toggleable {background-color: white;}#sk-container-id-2 label.sk-toggleable__label {cursor: pointer;display: block;width: 100%;margin-bottom: 0;padding: 0.3em;box-sizing: border-box;text-align: center;}#sk-container-id-2 label.sk-toggleable__label-arrow:before {content: \"▸\";float: left;margin-right: 0.25em;color: #696969;}#sk-container-id-2 label.sk-toggleable__label-arrow:hover:before {color: black;}#sk-container-id-2 div.sk-estimator:hover label.sk-toggleable__label-arrow:before {color: black;}#sk-container-id-2 div.sk-toggleable__content {max-height: 0;max-width: 0;overflow: hidden;text-align: left;background-color: #f0f8ff;}#sk-container-id-2 div.sk-toggleable__content pre {margin: 0.2em;color: black;border-radius: 0.25em;background-color: #f0f8ff;}#sk-container-id-2 input.sk-toggleable__control:checked~div.sk-toggleable__content {max-height: 200px;max-width: 100%;overflow: auto;}#sk-container-id-2 input.sk-toggleable__control:checked~label.sk-toggleable__label-arrow:before {content: \"▾\";}#sk-container-id-2 div.sk-estimator input.sk-toggleable__control:checked~label.sk-toggleable__label {background-color: #d4ebff;}#sk-container-id-2 div.sk-label input.sk-toggleable__control:checked~label.sk-toggleable__label {background-color: #d4ebff;}#sk-container-id-2 input.sk-hidden--visually {border: 0;clip: rect(1px 1px 1px 1px);clip: rect(1px, 1px, 1px, 1px);height: 1px;margin: -1px;overflow: hidden;padding: 0;position: absolute;width: 1px;}#sk-container-id-2 div.sk-estimator {font-family: monospace;background-color: #f0f8ff;border: 1px dotted black;border-radius: 0.25em;box-sizing: border-box;margin-bottom: 0.5em;}#sk-container-id-2 div.sk-estimator:hover {background-color: #d4ebff;}#sk-container-id-2 div.sk-parallel-item::after {content: \"\";width: 100%;border-bottom: 1px solid gray;flex-grow: 1;}#sk-container-id-2 div.sk-label:hover label.sk-toggleable__label {background-color: #d4ebff;}#sk-container-id-2 div.sk-serial::before {content: \"\";position: absolute;border-left: 1px solid gray;box-sizing: border-box;top: 0;bottom: 0;left: 50%;z-index: 0;}#sk-container-id-2 div.sk-serial {display: flex;flex-direction: column;align-items: center;background-color: white;padding-right: 0.2em;padding-left: 0.2em;position: relative;}#sk-container-id-2 div.sk-item {position: relative;z-index: 1;}#sk-container-id-2 div.sk-parallel {display: flex;align-items: stretch;justify-content: center;background-color: white;position: relative;}#sk-container-id-2 div.sk-item::before, #sk-container-id-2 div.sk-parallel-item::before {content: \"\";position: absolute;border-left: 1px solid gray;box-sizing: border-box;top: 0;bottom: 0;left: 50%;z-index: -1;}#sk-container-id-2 div.sk-parallel-item {display: flex;flex-direction: column;z-index: 1;position: relative;background-color: white;}#sk-container-id-2 div.sk-parallel-item:first-child::after {align-self: flex-end;width: 50%;}#sk-container-id-2 div.sk-parallel-item:last-child::after {align-self: flex-start;width: 50%;}#sk-container-id-2 div.sk-parallel-item:only-child::after {width: 0;}#sk-container-id-2 div.sk-dashed-wrapped {border: 1px dashed gray;margin: 0 0.4em 0.5em 0.4em;box-sizing: border-box;padding-bottom: 0.4em;background-color: white;}#sk-container-id-2 div.sk-label label {font-family: monospace;font-weight: bold;display: inline-block;line-height: 1.2em;}#sk-container-id-2 div.sk-label-container {text-align: center;}#sk-container-id-2 div.sk-container {/* jupyter's `normalize.less` sets `[hidden] { display: none; }` but bootstrap.min.css set `[hidden] { display: none !important; }` so we also need the `!important` here to be able to override the default hidden behavior on the sphinx rendered scikit-learn.org. See: https://github.com/scikit-learn/scikit-learn/issues/21755 */display: inline-block !important;position: relative;}#sk-container-id-2 div.sk-text-repr-fallback {display: none;}</style><div id=\"sk-container-id-2\" class=\"sk-top-container\"><div class=\"sk-text-repr-fallback\"><pre>LogisticRegression()</pre><b>In a Jupyter environment, please rerun this cell to show the HTML representation or trust the notebook. <br />On GitHub, the HTML representation is unable to render, please try loading this page with nbviewer.org.</b></div><div class=\"sk-container\" hidden><div class=\"sk-item\"><div class=\"sk-estimator sk-toggleable\"><input class=\"sk-toggleable__control sk-hidden--visually\" id=\"sk-estimator-id-2\" type=\"checkbox\" checked><label for=\"sk-estimator-id-2\" class=\"sk-toggleable__label sk-toggleable__label-arrow\">LogisticRegression</label><div class=\"sk-toggleable__content\"><pre>LogisticRegression()</pre></div></div></div></div></div>"
      ],
      "text/plain": [
       "LogisticRegression()"
      ]
     },
     "execution_count": 20,
     "metadata": {},
     "output_type": "execute_result"
    }
   ],
   "source": [
    "from sklearn import linear_model\n",
    "\n",
    "#Train and build the model\n",
    "logistic = linear_model.LogisticRegression()\n",
    "logistic.fit(X_train, y_train)"
   ]
  },
  {
   "cell_type": "code",
   "execution_count": 21,
   "metadata": {},
   "outputs": [
    {
     "data": {
      "image/png": "[encoded data removed]",
      "text/plain": [
       "<Figure size 800x600 with 2 Axes>"
      ]
     },
     "metadata": {},
     "output_type": "display_data"
    }
   ],
   "source": [
    "from sklearn.metrics import confusion_matrix\n",
    "import seaborn as sns\n",
    "import matplotlib.pyplot as plt\n",
    "y_pred = logistic.predict(X_test)\n",
    "cm = confusion_matrix(y_test, y_pred)\n",
    "\n",
    "\n",
    "plt.figure(figsize=(8, 6))\n",
    "sns.heatmap(cm, annot=True, fmt=\"d\", cmap=\"Blues\", xticklabels=[0, 1], yticklabels=[0, 1])\n",
    "plt.xlabel('Predicted labels')\n",
    "plt.ylabel('True labels')\n",
    "plt.title('Confusion Matrix')\n",
    "plt.show()\n"
   ]
  },
  {
   "cell_type": "markdown",
   "metadata": {},
   "source": [
    "A confusion matrix is a table that is often used to describe the performance of a classification model on a set of test data for which the true values are known. It allows visualization of the performance of an algorithm.\n",
    "\n",
    "A typical confusion matrix looks like this:\n",
    "\n",
    "|                 | Predicted Positive | Predicted Negative |\n",
    "|-----------------|--------------------|--------------------|\n",
    "| Actual Positive | True Positive      | False Negative     |\n",
    "| Actual Negative | False Positive     | True Negative      |\n",
    "\n",
    "Here's what each term in the confusion matrix means:\n",
    "\n",
    "- **True Positive (TP)**: These are the cases where the model predicted the class correctly as positive when the actual class was positive. For example, in a medical context, it represents the number of patients the model correctly identified as having a disease.\n",
    "  \n",
    "- **True Negative (TN)**: These are the cases where the model predicted the class correctly as negative when the actual class was negative. For example, in a medical context, it represents the number of patients the model correctly identified as not having a disease.\n",
    "\n",
    "- **False Positive (FP)**: These are the cases where the model predicted the class as positive when the actual class was negative. Also known as a Type I error. For example, in a medical context, it represents the number of healthy patients the model incorrectly identified as having a disease.\n",
    "\n",
    "- **False Negative (FN)**: These are the cases where the model predicted the class as negative when the actual class was positive. Also known as a Type II error. For example, in a medical context, it represents the number of patients with a disease the model incorrectly identified as healthy.\n",
    "\n",
    "Interpreting a confusion matrix involves examining these different scenarios to understand how well your model is performing. Key metrics derived from the confusion matrix include accuracy, precision, recall (sensitivity), specificity, and F1 score. These metrics provide insights into various aspects of the model's performance and help in assessing its effectiveness for the given task.\n"
   ]
  },
  {
   "cell_type": "markdown",
   "metadata": {},
   "source": [
    "### Performance metrics"
   ]
  },
  {
   "cell_type": "markdown",
   "metadata": {},
   "source": [
    "#### Accuracy\n",
    "\n",
    "Accuracy is a metric that measures the proportion of correct predictions made by the model out of the total predictions. It is calculated by dividing the number of correct predictions (True Positives and True Negatives) by the total number of predictions made by the model (True Positives, True Negatives, False Positives, and False Negatives).\n"
   ]
  },
  {
   "cell_type": "code",
   "execution_count": 22,
   "metadata": {},
   "outputs": [],
   "source": [
    "positive_class = 1\n",
    "TP = 106\n",
    "FP = 4\n",
    "TN = 59\n",
    "FN = 2"
   ]
  },
  {
   "cell_type": "code",
   "execution_count": 23,
   "metadata": {},
   "outputs": [
    {
     "name": "stdout",
     "output_type": "stream",
     "text": [
      "Framework Accuracy: 0.97076\n",
      "Manually Computed Accuracy: 0.96491\n"
     ]
    }
   ],
   "source": [
    "import model_evaluation_utils as meu\n",
    "\n",
    "#Showing the accuracy of the model created\n",
    "fw_acc = round(meu.metrics.accuracy_score(y_true=y_test, y_pred=y_pred), 5)\n",
    "mc_acc = round((TP + TN) / (TP + TN + FP + FN), 5)\n",
    "print('Framework Accuracy:', fw_acc)\n",
    "print('Manually Computed Accuracy:', mc_acc)"
   ]
  },
  {
   "cell_type": "markdown",
   "metadata": {},
   "source": [
    "#### Precision. \n",
    "Also known as positive predictive value, Defined by the number of predictions made that are actually correct or relevant out of all the predictions based on the positive class. "
   ]
  },
  {
   "cell_type": "code",
   "execution_count": 24,
   "metadata": {},
   "outputs": [
    {
     "name": "stdout",
     "output_type": "stream",
     "text": [
      "Framework Precision: 0.96396\n",
      "Manually Computed Precision: 0.96364\n"
     ]
    }
   ],
   "source": [
    "#Showing the precision metric of the model\n",
    "fw_prec = round(meu.metrics.precision_score(y_true=y_test, y_pred=y_pred), 5)\n",
    "mc_prec = round((TP) / (TP + FP), 5)\n",
    "print('Framework Precision:', fw_prec)\n",
    "print('Manually Computed Precision:', mc_prec)\n"
   ]
  },
  {
   "cell_type": "markdown",
   "metadata": {},
   "source": [
    "#### Recall or sensitivity\n",
    "It's a measure of a model to identify the percentage of relevant data points. Defined as the number of the positive class that were correctly predicted."
   ]
  },
  {
   "cell_type": "code",
   "execution_count": 25,
   "metadata": {},
   "outputs": [
    {
     "name": "stdout",
     "output_type": "stream",
     "text": [
      "Framework Recall: 0.97076\n",
      "Manually Computed recall: 0.96491\n"
     ]
    }
   ],
   "source": [
    "# Showing the recall \n",
    "fw_rec = round(meu.metrics.recall_score(y_true=y_test, y_pred=y_pred), 5)\n",
    "mc_rec = round((TP) / (TP + FN),5)\n",
    "print('Framework Recall:', fw_acc)\n",
    "print('Manually Computed recall:', mc_acc)"
   ]
  },
  {
   "cell_type": "markdown",
   "metadata": {},
   "source": [
    "#### F1-SCORE\n",
    "This is a metric that is the harmonic mean of precision and recall and help us to optimize a classifier for balanced precision and recall performance. \n",
    "\n"
   ]
  },
  {
   "cell_type": "code",
   "execution_count": 26,
   "metadata": {},
   "outputs": [
    {
     "name": "stdout",
     "output_type": "stream",
     "text": [
      "Framework F1-Score: 0.97717\n",
      "Manually Computed F1-Score: 0.97248\n"
     ]
    }
   ],
   "source": [
    "\n",
    "fw_f1 = round(meu.metrics.f1_score(y_true=y_test, y_pred=y_pred), 5)\n",
    "mc_f1 = round((2*mc_prec*mc_rec) / (mc_prec+mc_rec), 5)\n",
    "print('Framework F1-Score:', fw_f1)\n",
    "print('Manually Computed F1-Score:', mc_f1)"
   ]
  },
  {
   "cell_type": "markdown",
   "metadata": {},
   "source": [
    "### Receiver Operating Characteristic Curve - ROC\n",
    "ROC (Receiver Operating Characteristic) curve is a graphical representation of the performance of a binary classification model across various thresholds. It plots the true positive rate (sensitivity) against the false positive rate (1 - specificity) at different threshold values. ROC curve helps visualize the trade-off between sensitivity and specificity, and the area under the ROC curve (AUC) quantifies the overall performance of the model in distinguishing between the classes."
   ]
  },
  {
   "cell_type": "code",
   "execution_count": 27,
   "metadata": {},
   "outputs": [
    {
     "data": {
      "image/png": "[encoded data removed]",
      "text/plain": [
       "<Figure size 640x480 with 1 Axes>"
      ]
     },
     "metadata": {},
     "output_type": "display_data"
    }
   ],
   "source": [
    "import model_evaluation_utils as meu\n",
    "meu.plot_model_roc_curve(clf=logistic, features=X_test, true_labels=y_test)"
   ]
  },
  {
   "cell_type": "markdown",
   "metadata": {},
   "source": [
    "Considering that the model has an accuracy and f1 score of around 97% it will make sense since the curve in the chart is near perfect. "
   ]
  },
  {
   "cell_type": "markdown",
   "metadata": {},
   "source": [
    "#### Evaluating clustering models\n",
    "\n",
    "For this example we will compare 2 models the first one using the original approach with 2 clusters and a new one defined by 5 clusters. This will help us to compare the evaluation in not labeled data. "
   ]
  },
  {
   "cell_type": "code",
   "execution_count": 28,
   "metadata": {},
   "outputs": [
    {
     "name": "stderr",
     "output_type": "stream",
     "text": [
      "/usr/local/lib/python3.11/site-packages/sklearn/cluster/_kmeans.py:1416: FutureWarning: The default value of `n_init` will change from 10 to 'auto' in 1.4. Set the value of `n_init` explicitly to suppress the warning\n",
      "  super()._check_params_vs_input(X, default_n_init=10)\n",
      "/usr/local/lib/python3.11/site-packages/sklearn/cluster/_kmeans.py:1416: FutureWarning: The default value of `n_init` will change from 10 to 'auto' in 1.4. Set the value of `n_init` explicitly to suppress the warning\n",
      "  super()._check_params_vs_input(X, default_n_init=10)\n"
     ]
    }
   ],
   "source": [
    "km2 = KMeans(n_clusters=2, random_state=42).fit(X)\n",
    "km2_labels = km2.labels_\n",
    "\n",
    "km5 = KMeans(n_clusters=5, random_state=42).fit(X)\n",
    "km5_labels = km5.labels_"
   ]
  },
  {
   "cell_type": "markdown",
   "metadata": {},
   "source": [
    "#### External validation\n",
    "External validation Means validating the clustering model when we have some ground truth available as labeled data. The presence of external labeled reduces most of the complexity model evaluation as the clustering (unsupervised) model can be validated in similar fashion to classification models. \n",
    "\n",
    "To perform this exist 3 different metrics to validate clustering performance: \n",
    "\n",
    "Homogeneity measures the extent to which each cluster contains only data points that are members of a single class.\n",
    "\n",
    "Completeness measures the extent to which all data points that are members of a given class are also elements of the same cluster.\n",
    "\n",
    "V-measure is the harmonic mean of homogeneity and completeness, providing a balanced assessment of clustering quality."
   ]
  },
  {
   "cell_type": "code",
   "execution_count": 30,
   "metadata": {},
   "outputs": [
    {
     "name": "stdout",
     "output_type": "stream",
     "text": [
      "Homogeneity, Completeness, V-measure metrics for num clusters=2:  [0.422 0.517 0.465]\n",
      "Homogeneity, Completeness, V-measure metrics for num clusters=5:  [0.602 0.298 0.398]\n"
     ]
    }
   ],
   "source": [
    "from sklearn import datasets, metrics\n",
    "\n",
    "km2_hcv = np.round(metrics.homogeneity_completeness_v_measure(y, km2_labels), 3)\n",
    "km5_hcv = np.round(metrics.homogeneity_completeness_v_measure(y, km5_labels), 3)\n",
    "\n",
    "print('Homogeneity, Completeness, V-measure metrics for num clusters=2: ', km2_hcv)\n",
    "print('Homogeneity, Completeness, V-measure metrics for num clusters=5: ', km5_hcv)\n"
   ]
  },
  {
   "cell_type": "markdown",
   "metadata": {},
   "source": [
    "With this we will see that V-measure for the first model with 2 clusters is better than the one with five clusters and the reason is because of higher completeness score."
   ]
  },
  {
   "cell_type": "markdown",
   "metadata": {},
   "source": [
    "#### Internal validation \n",
    "\n",
    "For clustering evaluation, internal validation refers to techniques that use inherent data information to assess the quality of clusters generated by a clustering algorithm without requiring external labels. Some common techniques of internal validation include:\n",
    "\n",
    "Silhouette Score: Measures how well-separated clusters are and how similar points are within each cluster compared to other clusters. A higher silhouette score indicates better clustering quality.\n",
    "\n",
    "Davies-Bouldin Index: Computes the \"goodness\" of clustering based on the distance between clusters and the dispersion within clusters. A lower value indicates better clustering quality.\n",
    "\n",
    "Calinski-Harabasz Index: Evaluates the compactness of clusters and the separation between them. A higher value indicates better clustering quality.\n",
    "\n"
   ]
  },
  {
   "cell_type": "markdown",
   "metadata": {},
   "source": [
    "##### Silhouette Coefficient"
   ]
  },
  {
   "cell_type": "code",
   "execution_count": 32,
   "metadata": {},
   "outputs": [
    {
     "name": "stdout",
     "output_type": "stream",
     "text": [
      "Silhouette Coefficient for num clusters=2:  0.6972646156059464\n",
      "Silhouette Coefficient for num clusters=5:  0.5102292997907838\n"
     ]
    }
   ],
   "source": [
    "from sklearn import metrics\n",
    "\n",
    "km2_silc = metrics.silhouette_score(X, km2_labels, metric='euclidean')\n",
    "km5_silc = metrics.silhouette_score(X, km5_labels, metric='euclidean')\n",
    "\n",
    "print('Silhouette Coefficient for num clusters=2: ', km2_silc)\n",
    "print('Silhouette Coefficient for num clusters=5: ', km5_silc)"
   ]
  },
  {
   "cell_type": "markdown",
   "metadata": {},
   "source": [
    "\n",
    "From the result of this metrics is easy to see that we have a better quality with two clusters as compared to 5 clusters. "
   ]
  },
  {
   "cell_type": "markdown",
   "metadata": {},
   "source": [
    "##### Calinski-Harabaz Index"
   ]
  },
  {
   "cell_type": "code",
   "execution_count": 35,
   "metadata": {},
   "outputs": [
    {
     "name": "stdout",
     "output_type": "stream",
     "text": [
      "Calinski-Harabasz Index for num clusters=2:  1300.2082268895424\n",
      "Calinski-Harabasz Index for num clusters=5:  1621.0110530063253\n"
     ]
    }
   ],
   "source": [
    "km2_chi = metrics.calinski_harabasz_score(X, km2_labels)\n",
    "km5_chi = metrics.calinski_harabasz_score(X, km5_labels)\n",
    "\n",
    "print('Calinski-Harabasz Index for num clusters=2: ', km2_chi)\n",
    "print('Calinski-Harabasz Index for num clusters=5: ', km5_chi)"
   ]
  },
  {
   "cell_type": "markdown",
   "metadata": {},
   "source": [
    "### Evaluating Regression models"
   ]
  },
  {
   "cell_type": "markdown",
   "metadata": {},
   "source": [
    "#### Coefficient of Determination or r2\n",
    "The coefficient of determination, also known as R2\n",
    "  (R-squared), is a statistical measure indicating how much variability in the dependent variable can be explained by the regression model. It is commonly used to assess the goodness of fit of a regression model to the observed data."
   ]
  },
  {
   "cell_type": "markdown",
   "metadata": {},
   "source": [
    "#### Mean Squared Error\n",
    "MSE (Mean Squared Error) is a statistical metric used to measure the average squared difference between the actual and predicted values in a regression problem. It provides a quantification of the average squared deviation or error of the predictions from the true values. A lower MSE indicates that the model's predictions are closer to the actual values, while a higher MSE suggests larger discrepancies between the predicted and actual values. MSE is widely used as a loss function in regression algorithms and serves as a key measure of the model's performance in fitting the data."
   ]
  },
  {
   "cell_type": "markdown",
   "metadata": {},
   "source": [
    "### Model Tunning"
   ]
  },
  {
   "cell_type": "markdown",
   "metadata": {},
   "source": [
    "Model tuning, also known as hyperparameter tuning, refers to the process of optimizing the hyperparameters of a machine learning model to improve its performance on unseen data. Hyperparameters are settings that are external to the model and cannot be learned from the data, such as the learning rate in neural networks or the depth of a decision tree.\n",
    "\n",
    "The goal of model tuning is to find the combination of hyperparameters that maximizes the model's performance metrics, such as accuracy, precision, or recall, on a validation dataset. This process typically involves:\n",
    "\n",
    "Selection of Hyperparameters: Identifying the hyperparameters to be tuned and their potential ranges or values.\n",
    "\n",
    "Hyperparameter Search: Performing a search over the hyperparameter space to find the optimal combination. This can be done using techniques like grid search, random search, or more advanced optimization algorithms like Bayesian optimization.\n",
    "\n",
    "Evaluation: Assessing the performance of the model with each combination of hyperparameters using cross-validation or a separate validation dataset.\n",
    "\n",
    "Selection of Best Model: Choosing the set of hyperparameters that result in the best performance based on the chosen evaluation metric.\n",
    "\n",
    "Model tuning is a crucial step in the machine learning pipeline as it can significantly impact the model's performance and generalization ability. It requires careful experimentation and optimization to find the optimal configuration for the specific problem at hand."
   ]
  },
  {
   "cell_type": "markdown",
   "metadata": {},
   "source": [
    "#### Hyperparameter tuning strategies"
   ]
  },
  {
   "cell_type": "markdown",
   "metadata": {},
   "source": [
    "##### Build and Evaluate Default Model"
   ]
  },
  {
   "cell_type": "code",
   "execution_count": 40,
   "metadata": {},
   "outputs": [
    {
     "name": "stdout",
     "output_type": "stream",
     "text": [
      "Default Model Stats:\n",
      "              precision    recall  f1-score   support\n",
      "\n",
      "           0       1.00      0.83      0.90        63\n",
      "           1       0.91      1.00      0.95       108\n",
      "\n",
      "    accuracy                           0.94       171\n",
      "   macro avg       0.95      0.91      0.93       171\n",
      "weighted avg       0.94      0.94      0.93       171\n",
      "\n"
     ]
    }
   ],
   "source": [
    "# Import necessary libraries\n",
    "from sklearn.model_selection import train_test_split\n",
    "from sklearn.svm import SVC\n",
    "from sklearn import metrics\n",
    "\n",
    "# Split the data into training and testing sets\n",
    "X_train, X_test, y_train, y_test = train_test_split(X, y, test_size=0.3, random_state=42)\n",
    "\n",
    "# Instantiate a Support Vector Classifier with default parameters\n",
    "def_svc = SVC(random_state=42)\n",
    "\n",
    "# Train the classifier on the training data\n",
    "def_svc.fit(X_train, y_train)\n",
    "\n",
    "# Make predictions on the testing data\n",
    "def_y_pred = def_svc.predict(X_test)\n",
    "\n",
    "# Print classification report to evaluate model performance\n",
    "print('Default Model Stats:')\n",
    "print(metrics.classification_report(y_test, def_y_pred))\n",
    "\n"
   ]
  },
  {
   "cell_type": "markdown",
   "metadata": {},
   "source": [
    "#### Grid Search"
   ]
  },
  {
   "cell_type": "code",
   "execution_count": 39,
   "metadata": {},
   "outputs": [
    {
     "name": "stdout",
     "output_type": "stream",
     "text": [
      "# Tuning hyper-parameters for accuracy\n",
      "\n",
      "Grid scores for all the models based on CV:\n",
      "\n",
      "0.95218 (+/-0.06256) for {'C': 1, 'gamma': 0.001, 'kernel': 'linear'}\n",
      "0.91193 (+/-0.04607) for {'C': 1, 'gamma': 0.001, 'kernel': 'rbf'}\n",
      "0.95218 (+/-0.06256) for {'C': 1, 'gamma': 0.0001, 'kernel': 'linear'}\n",
      "0.92459 (+/-0.02287) for {'C': 1, 'gamma': 0.0001, 'kernel': 'rbf'}\n",
      "0.96228 (+/-0.04244) for {'C': 10, 'gamma': 0.001, 'kernel': 'linear'}\n",
      "0.90187 (+/-0.04735) for {'C': 10, 'gamma': 0.001, 'kernel': 'rbf'}\n",
      "0.96228 (+/-0.04244) for {'C': 10, 'gamma': 0.0001, 'kernel': 'linear'}\n",
      "0.92959 (+/-0.03449) for {'C': 10, 'gamma': 0.0001, 'kernel': 'rbf'}\n",
      "0.95718 (+/-0.05923) for {'C': 50, 'gamma': 0.001, 'kernel': 'linear'}\n",
      "0.90187 (+/-0.04735) for {'C': 50, 'gamma': 0.001, 'kernel': 'rbf'}\n",
      "0.95718 (+/-0.05923) for {'C': 50, 'gamma': 0.0001, 'kernel': 'linear'}\n",
      "0.93462 (+/-0.02969) for {'C': 50, 'gamma': 0.0001, 'kernel': 'rbf'}\n",
      "0.95468 (+/-0.05703) for {'C': 100, 'gamma': 0.001, 'kernel': 'linear'}\n",
      "0.90187 (+/-0.04735) for {'C': 100, 'gamma': 0.001, 'kernel': 'rbf'}\n",
      "0.95468 (+/-0.05703) for {'C': 100, 'gamma': 0.0001, 'kernel': 'linear'}\n",
      "0.93209 (+/-0.04688) for {'C': 100, 'gamma': 0.0001, 'kernel': 'rbf'}\n",
      "\n",
      "Best parameters set found on development set: {'C': 10, 'gamma': 0.001, 'kernel': 'linear'}\n",
      "Best model validation accuracy: 0.9622784810126582\n"
     ]
    }
   ],
   "source": [
    "from sklearn.model_selection import GridSearchCV\n",
    "\n",
    "# setting the parameter grid\n",
    "grid_parameters = {'kernel': ['linear', 'rbf'], \n",
    "                   'gamma': [1e-3, 1e-4],\n",
    "                   'C': [1, 10, 50, 100]}\n",
    "\n",
    "# perform hyperparameter tuning\n",
    "print(\"# Tuning hyper-parameters for accuracy\\n\")\n",
    "clf = GridSearchCV(SVC(random_state=42), grid_parameters, cv=5, scoring='accuracy')\n",
    "clf.fit(X_train, y_train)\n",
    "# view accuracy scores for all the models\n",
    "print(\"Grid scores for all the models based on CV:\\n\")\n",
    "means = clf.cv_results_['mean_test_score']\n",
    "stds = clf.cv_results_['std_test_score']\n",
    "for mean, std, params in zip(means, stds, clf.cv_results_['params']):\n",
    "    print(\"%0.5f (+/-%0.05f) for %r\" % (mean, std * 2, params))\n",
    "# check out best model performance\n",
    "print(\"\\nBest parameters set found on development set:\", clf.best_params_)\n",
    "print(\"Best model validation accuracy:\", clf.best_score_)"
   ]
  },
  {
   "cell_type": "markdown",
   "metadata": {},
   "source": [
    "This output displays the results of hyperparameter tuning for accuracy using cross-validation. Each line shows a combination of hyperparameters along with the accuracy score and standard deviation. The best parameters found are shown at the end. This helps optimize the model's parameters for achieving the highest accuracy on unseen data."
   ]
  },
  {
   "cell_type": "markdown",
   "metadata": {},
   "source": [
    "##### Evaluate Grid Search Tuned Model"
   ]
  },
  {
   "cell_type": "code",
   "execution_count": 43,
   "metadata": {},
   "outputs": [
    {
     "name": "stdout",
     "output_type": "stream",
     "text": [
      "\n",
      "\n",
      "Tuned Model Stats:\n",
      "              precision    recall  f1-score   support\n",
      "\n",
      "           0       0.95      0.97      0.96        63\n",
      "           1       0.98      0.97      0.98       108\n",
      "\n",
      "    accuracy                           0.97       171\n",
      "   macro avg       0.97      0.97      0.97       171\n",
      "weighted avg       0.97      0.97      0.97       171\n",
      "\n"
     ]
    }
   ],
   "source": [
    "# Get the best estimator from the grid search\n",
    "gs_best = clf.best_estimator_\n",
    "\n",
    "# Make predictions using the tuned model\n",
    "tuned_y_pred = gs_best.predict(X_test)\n",
    "\n",
    "# Print classification report to evaluate model performance\n",
    "print('\\n\\nTuned Model Stats:')\n",
    "print(metrics.classification_report(y_test, tuned_y_pred))\n"
   ]
  },
  {
   "cell_type": "markdown",
   "metadata": {},
   "source": [
    "##### Tune Model with Randomized Search\n"
   ]
  },
  {
   "cell_type": "code",
   "execution_count": 44,
   "metadata": {},
   "outputs": [
    {
     "name": "stdout",
     "output_type": "stream",
     "text": [
      "Best parameters set found on development set:\n"
     ]
    },
    {
     "data": {
      "text/plain": [
       "{'C': 6.955268641460015, 'gamma': 0.3663830820290041, 'kernel': 'linear'}"
      ]
     },
     "execution_count": 44,
     "metadata": {},
     "output_type": "execute_result"
    }
   ],
   "source": [
    "import scipy\n",
    "from sklearn.model_selection import RandomizedSearchCV\n",
    "\n",
    "param_grid = {'C': scipy.stats.expon(scale=10), \n",
    "              'gamma': scipy.stats.expon(scale=.1),\n",
    "              'kernel': ['rbf', 'linear']}\n",
    "\n",
    "random_search = RandomizedSearchCV(SVC(random_state=42), param_distributions=param_grid,\n",
    "                                   n_iter=50, cv=5)\n",
    "random_search.fit(X_train, y_train)\n",
    "\n",
    "print(\"Best parameters set found on development set:\")\n",
    "random_search.best_params_"
   ]
  },
  {
   "cell_type": "markdown",
   "metadata": {},
   "source": [
    "##### Evaluate Randomized Search Tuned Model"
   ]
  },
  {
   "cell_type": "code",
   "execution_count": 45,
   "metadata": {},
   "outputs": [
    {
     "name": "stdout",
     "output_type": "stream",
     "text": [
      "Accuracy: 0.9766\n",
      "Precision: 0.9766\n",
      "Recall: 0.9766\n",
      "F1 Score: 0.9766\n"
     ]
    }
   ],
   "source": [
    "\n",
    "rs_best = random_search.best_estimator_\n",
    "rs_y_pred = rs_best.predict(X_test)\n",
    "meu.get_metrics(true_labels=y_test, predicted_labels=rs_y_pred)"
   ]
  },
  {
   "cell_type": "markdown",
   "metadata": {},
   "source": [
    "#### Model Interpretation\n"
   ]
  },
  {
   "cell_type": "code",
   "execution_count": 49,
   "metadata": {},
   "outputs": [
    {
     "name": "stdout",
     "output_type": "stream",
     "text": [
      "\n",
      "\n",
      "Tuned Model Stats:\n",
      "              precision    recall  f1-score   support\n",
      "\n",
      "           0       0.98      0.94      0.96        63\n",
      "           1       0.96      0.99      0.98       108\n",
      "\n",
      "    accuracy                           0.97       171\n",
      "   macro avg       0.97      0.96      0.97       171\n",
      "weighted avg       0.97      0.97      0.97       171\n",
      "\n"
     ]
    }
   ],
   "source": [
    "# Import necessary libraries\n",
    "from sklearn.metrics import classification_report\n",
    "\n",
    "# Make predictions using logistic regression model\n",
    "y_pred_proba = logistic.predict_proba(X_test)\n",
    "y_pred = logistic.predict(X_test)\n",
    "\n",
    "# Print classification report to evaluate model performance\n",
    "print('\\n\\nTuned Model Stats:')\n",
    "print(classification_report(y_test, y_pred))\n"
   ]
  },
  {
   "cell_type": "markdown",
   "metadata": {},
   "source": [
    "#### Skater Library: Simplifying Model Interpretation and Explanation\n",
    "\n",
    "The Skater library is a Python tool designed to simplify the interpretation and explanation of machine learning models. It offers a comprehensive set of techniques and tools to help data scientists and machine learning practitioners understand how models make predictions and which features are most influential.\n",
    "\n",
    "### Key Features and Functionalities:\n",
    "\n",
    "1. **Model Interpretation**: Skater provides various methods for interpreting machine learning models. This includes visualizations such as feature importance plots, which highlight the most important features for making predictions, and feature contribution analysis, which helps understand how individual features contribute to model predictions. Additionally, Skater offers partial dependence analysis, which shows how the predicted outcome changes as one or more features vary.\n",
    "\n",
    "2. **Data Exploration**: Understanding the data used to train machine learning models is crucial for building reliable and accurate models. Skater offers tools for exploring and analyzing data, allowing users to identify patterns, anomalies, or biases in the data. This helps ensure that the models are trained on high-quality data and can make accurate predictions on new data.\n",
    "\n",
    "3. **Model Explainability**: Skater helps explain how machine learning models arrive at their predictions. By providing insights into the reasoning behind model decisions, users can better understand and trust the model's predictions. Skater's explainability features enable users to evaluate the reliability and fairness of models and identify potential sources of bias.\n",
    "\n",
    "4. **Model Evaluation**: Evaluating the performance of machine learning models is essential for assessing their effectiveness and identifying areas for improvement. Skater offers functionalities for evaluating model performance, including various evaluation metrics, cross-validation techniques, and tools for comparing different models. This allows users to select the best-performing models for their specific use case and optimize model performance over time.\n",
    "\n",
    "### Practical Challenges:\n",
    "\n",
    "Despite its powerful capabilities, integrating Skater into your machine learning workflow may encounter practical challenges. For instance, if you experience issues with library compatibility or version dependencies, it can hinder your ability to incorporate Skater's features seamlessly into your Jupyter Notebook or Python environment. In some cases, this may require updating or adjusting your Python environment to resolve compatibility issues and ensure smooth integration of Skater's functionality.The Skater library serves as a valuable resource for data scientists, researchers, and developers working on machine learning projects. By simplifying model interpretation and explanation, Skater empowers users to gain deeper insights into their models, understand how they make predictions, and build more reliable and transparent machine learning systems.\n"
   ]
  },
  {
   "cell_type": "markdown",
   "metadata": {},
   "source": [
    "## Model deployment"
   ]
  },
  {
   "cell_type": "markdown",
   "metadata": {},
   "source": [
    "Model deployment is a critical phase in the machine learning pipeline where the trained models are put into production to make predictions on real-world data. In this section, we will explore various aspects of deploying machine learning models, including:\n",
    "\n",
    "Model Serialization: Learn how to serialize trained models into a format suitable for deployment and consumption by other applications.\n",
    "\n",
    "API Development: Understand the process of building APIs (Application Programming Interfaces) to expose machine learning models as services, allowing them to receive input data and return predictions.\n",
    "\n",
    "Scalability and Performance: Explore strategies for deploying models that can handle large volumes of data and concurrent requests efficiently.\n",
    "\n",
    "Monitoring and Maintenance: Discover best practices for monitoring deployed models, detecting performance degradation, and performing maintenance tasks to ensure continued reliability and accuracy.\n",
    "\n",
    "Whether you're deploying models for internal use within your organization or as part of a customer-facing application, this section will provide valuable insights and practical guidance to help you navigate the complexities of model deployment effectively."
   ]
  },
  {
   "cell_type": "markdown",
   "metadata": {},
   "source": [
    "#### Model persistance "
   ]
  },
  {
   "cell_type": "code",
   "execution_count": 74,
   "metadata": {},
   "outputs": [
    {
     "data": {
      "text/plain": [
       "['lr_model.pkl']"
      ]
     },
     "execution_count": 74,
     "metadata": {},
     "output_type": "execute_result"
    }
   ],
   "source": [
    "#Saving the model on the disk with a file name\n",
    "import joblib\n",
    "joblib.dump(logistic,'lr_model.pkl')"
   ]
  },
  {
   "cell_type": "code",
   "execution_count": 76,
   "metadata": {},
   "outputs": [
    {
     "data": {
      "text/html": [
       "<style>#sk-container-id-4 {color: black;}#sk-container-id-4 pre{padding: 0;}#sk-container-id-4 div.sk-toggleable {background-color: white;}#sk-container-id-4 label.sk-toggleable__label {cursor: pointer;display: block;width: 100%;margin-bottom: 0;padding: 0.3em;box-sizing: border-box;text-align: center;}#sk-container-id-4 label.sk-toggleable__label-arrow:before {content: \"▸\";float: left;margin-right: 0.25em;color: #696969;}#sk-container-id-4 label.sk-toggleable__label-arrow:hover:before {color: black;}#sk-container-id-4 div.sk-estimator:hover label.sk-toggleable__label-arrow:before {color: black;}#sk-container-id-4 div.sk-toggleable__content {max-height: 0;max-width: 0;overflow: hidden;text-align: left;background-color: #f0f8ff;}#sk-container-id-4 div.sk-toggleable__content pre {margin: 0.2em;color: black;border-radius: 0.25em;background-color: #f0f8ff;}#sk-container-id-4 input.sk-toggleable__control:checked~div.sk-toggleable__content {max-height: 200px;max-width: 100%;overflow: auto;}#sk-container-id-4 input.sk-toggleable__control:checked~label.sk-toggleable__label-arrow:before {content: \"▾\";}#sk-container-id-4 div.sk-estimator input.sk-toggleable__control:checked~label.sk-toggleable__label {background-color: #d4ebff;}#sk-container-id-4 div.sk-label input.sk-toggleable__control:checked~label.sk-toggleable__label {background-color: #d4ebff;}#sk-container-id-4 input.sk-hidden--visually {border: 0;clip: rect(1px 1px 1px 1px);clip: rect(1px, 1px, 1px, 1px);height: 1px;margin: -1px;overflow: hidden;padding: 0;position: absolute;width: 1px;}#sk-container-id-4 div.sk-estimator {font-family: monospace;background-color: #f0f8ff;border: 1px dotted black;border-radius: 0.25em;box-sizing: border-box;margin-bottom: 0.5em;}#sk-container-id-4 div.sk-estimator:hover {background-color: #d4ebff;}#sk-container-id-4 div.sk-parallel-item::after {content: \"\";width: 100%;border-bottom: 1px solid gray;flex-grow: 1;}#sk-container-id-4 div.sk-label:hover label.sk-toggleable__label {background-color: #d4ebff;}#sk-container-id-4 div.sk-serial::before {content: \"\";position: absolute;border-left: 1px solid gray;box-sizing: border-box;top: 0;bottom: 0;left: 50%;z-index: 0;}#sk-container-id-4 div.sk-serial {display: flex;flex-direction: column;align-items: center;background-color: white;padding-right: 0.2em;padding-left: 0.2em;position: relative;}#sk-container-id-4 div.sk-item {position: relative;z-index: 1;}#sk-container-id-4 div.sk-parallel {display: flex;align-items: stretch;justify-content: center;background-color: white;position: relative;}#sk-container-id-4 div.sk-item::before, #sk-container-id-4 div.sk-parallel-item::before {content: \"\";position: absolute;border-left: 1px solid gray;box-sizing: border-box;top: 0;bottom: 0;left: 50%;z-index: -1;}#sk-container-id-4 div.sk-parallel-item {display: flex;flex-direction: column;z-index: 1;position: relative;background-color: white;}#sk-container-id-4 div.sk-parallel-item:first-child::after {align-self: flex-end;width: 50%;}#sk-container-id-4 div.sk-parallel-item:last-child::after {align-self: flex-start;width: 50%;}#sk-container-id-4 div.sk-parallel-item:only-child::after {width: 0;}#sk-container-id-4 div.sk-dashed-wrapped {border: 1px dashed gray;margin: 0 0.4em 0.5em 0.4em;box-sizing: border-box;padding-bottom: 0.4em;background-color: white;}#sk-container-id-4 div.sk-label label {font-family: monospace;font-weight: bold;display: inline-block;line-height: 1.2em;}#sk-container-id-4 div.sk-label-container {text-align: center;}#sk-container-id-4 div.sk-container {/* jupyter's `normalize.less` sets `[hidden] { display: none; }` but bootstrap.min.css set `[hidden] { display: none !important; }` so we also need the `!important` here to be able to override the default hidden behavior on the sphinx rendered scikit-learn.org. See: https://github.com/scikit-learn/scikit-learn/issues/21755 */display: inline-block !important;position: relative;}#sk-container-id-4 div.sk-text-repr-fallback {display: none;}</style><div id=\"sk-container-id-4\" class=\"sk-top-container\"><div class=\"sk-text-repr-fallback\"><pre>LogisticRegression()</pre><b>In a Jupyter environment, please rerun this cell to show the HTML representation or trust the notebook. <br />On GitHub, the HTML representation is unable to render, please try loading this page with nbviewer.org.</b></div><div class=\"sk-container\" hidden><div class=\"sk-item\"><div class=\"sk-estimator sk-toggleable\"><input class=\"sk-toggleable__control sk-hidden--visually\" id=\"sk-estimator-id-4\" type=\"checkbox\" checked><label for=\"sk-estimator-id-4\" class=\"sk-toggleable__label sk-toggleable__label-arrow\">LogisticRegression</label><div class=\"sk-toggleable__content\"><pre>LogisticRegression()</pre></div></div></div></div></div>"
      ],
      "text/plain": [
       "LogisticRegression()"
      ]
     },
     "execution_count": 76,
     "metadata": {},
     "output_type": "execute_result"
    }
   ],
   "source": [
    "#Load the created model again.\n",
    "lr = joblib.load('lr_model.pkl')\n",
    "lr"
   ]
  },
  {
   "cell_type": "code",
   "execution_count": 77,
   "metadata": {},
   "outputs": [
    {
     "name": "stdout",
     "output_type": "stream",
     "text": [
      "[1] [1]\n"
     ]
    }
   ],
   "source": [
    "#Making predictions with the model loaded. \n",
    "\n",
    "print(lr.predict(X_test[10:11]),y_test[10:11])"
   ]
  },
  {
   "cell_type": "markdown",
   "metadata": {},
   "source": [
    "For sure this is just and example a better case solution for a non-data science user is to create a python based script or application that can be scheduled to predict in a realtime or batches or new data."
   ]
  },
  {
   "cell_type": "code",
   "execution_count": null,
   "metadata": {},
   "outputs": [],
   "source": []
  },
  {
   "cell_type": "code",
   "execution_count": null,
   "metadata": {},
   "outputs": [],
   "source": []
  },
  {
   "cell_type": "code",
   "execution_count": null,
   "metadata": {},
   "outputs": [],
   "source": []
  }
 ],
 "metadata": {
  "kernelspec": {
   "display_name": "Python 3",
   "language": "python",
   "name": "python3"
  },
  "language_info": {
   "codemirror_mode": {
    "name": "ipython",
    "version": 3
   },
   "file_extension": ".py",
   "mimetype": "text/x-python",
   "name": "python",
   "nbconvert_exporter": "python",
   "pygments_lexer": "ipython3",
   "version": "3.11.8"
  },
  "orig_nbformat": 4
 },
 "nbformat": 4,
 "nbformat_minor": 2
}
